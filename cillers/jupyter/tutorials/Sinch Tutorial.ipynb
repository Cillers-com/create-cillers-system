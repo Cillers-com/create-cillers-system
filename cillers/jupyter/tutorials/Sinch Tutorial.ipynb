{
 "cells": [
  {
   "cell_type": "markdown",
   "id": "4501d411-91c5-4f8b-9bcb-cf161b7a287a",
   "metadata": {},
   "source": [
    "# Sinch Conversation API: Getting Started Guide using Sinch SDK\n",
    "\n",
    "## Introduction\n",
    "\n",
    "This Jupyter Notebook serves as a getting started guide for the Sinch Conversation API using the official Sinch SDK. We'll walk through the process of setting up your environment, authenticating with the API, and performing some basic operations.\n",
    "\n",
    "## Setup\n",
    "\n",
    "First, let's install the Sinch SDK:"
   ]
  },
  {
   "cell_type": "code",
   "execution_count": 1,
   "id": "d50be6a7-ed04-42c1-9c30-49baa8f188b8",
   "metadata": {},
   "outputs": [
    {
     "name": "stdout",
     "output_type": "stream",
     "text": [
      "\u001b[33mWARNING: The directory '/home/jovyan/.cache/pip' or its parent directory is not owned or is not writable by the current user. The cache has been disabled. Check the permissions and owner of that directory. If executing pip with sudo, you should use sudo's -H flag.\u001b[0m\u001b[33m\n",
      "\u001b[0mNote: you may need to restart the kernel to use updated packages.\n"
     ]
    }
   ],
   "source": [
    "%pip install --upgrade --quiet sinch"
   ]
  },
  {
   "cell_type": "code",
   "execution_count": 9,
   "id": "ce9f214b-a79b-40f4-94d6-52589e215b30",
   "metadata": {},
   "outputs": [
    {
     "name": "stdout",
     "output_type": "stream",
     "text": [
      "SendConversationMessageResponse(accepted_time='2024-10-11T12:40:49.998Z', message_id='01J9XSH52ESC2B666963YXSSME')\n"
     ]
    }
   ],
   "source": [
    "from sinch import SinchClient\n",
    "import json\n",
    "\n",
    "## Authentication\n",
    "\n",
    "#To use the Sinch Conversation API, you'll need to set up your credentials. Replace the placeholders with your actual Sinch API credentials:\n",
    "\n",
    "SINCH_APP_ID = \"01J9XRJDEH18DEYS69FVG0DH4G\"\n",
    "SINCH_PROJECT_ID = \"2fddd512-c775-4923-aa6e-8bdb1ffbeb9e\"\n",
    "SINCH_KEY_ID = \"6767ae8a-24c3-41f3-81df-cdf09ee948d7\"\n",
    "SINCH_KEY_SECRET = \"-m6KqDUcC_YDmy9RdvegRVo5V9\"\n",
    "\n",
    "# Initialize the Sinch client\n",
    "sinch_client = SinchClient(\n",
    "    key_id=SINCH_KEY_ID,\n",
    "    key_secret=SINCH_KEY_SECRET,\n",
    "    project_id=SINCH_PROJECT_ID\n",
    ")\n",
    "\n",
    "# conversation_region must be set to either us or eu\n",
    "sinch_client.configuration.conversation_region=\"us\"\n",
    "\n",
    "send_conversation_api_message_response = sinch_client.conversation.message.send(\n",
    "    app_id=SINCH_APP_ID,\n",
    "    recipient={\n",
    "        \"identified_by\" : {\n",
    "            \"channel_identities\" : [\n",
    "                {\"identity\":\"+46702948803\",\"channel\" : \"SMS\"}\n",
    "            ]\n",
    "        }\n",
    "    },\n",
    "    message={\n",
    "        \"text_message\" : {\n",
    "            \"text\" : \"Text message from Sinch Conversation API.\"\n",
    "        }\n",
    "    },\n",
    "    channel_properties={\n",
    "        \"SMS_SENDER\" : \"+447520650789\"\n",
    "    }\n",
    ")\n",
    "\n",
    "print(send_conversation_api_message_response)\n"
   ]
  },
  {
   "cell_type": "code",
   "execution_count": null,
   "id": "f21ff4b5-6601-464a-aca2-5fa20fd5402d",
   "metadata": {},
   "outputs": [],
   "source": []
  },
  {
   "cell_type": "code",
   "execution_count": null,
   "id": "70618fc2-4708-46b3-b887-cffddb1c8935",
   "metadata": {},
   "outputs": [],
   "source": [
    "### 2. Send a Message\n",
    "\n",
    "Now, let's send a message to a specific conversation:\n",
    "\n",
    "conversation_id = \"your_conversation_id\"  # Replace with an actual conversation ID\n",
    "message = client.conversations.send_message(\n",
    "    conversation_id=conversation_id,\n",
    "    message={\n",
    "        \"text_message\": {\n",
    "            \"text\": \"Hello from Jupyter using Sinch SDK!\"\n",
    "        }\n",
    "    }\n",
    ")\n",
    "print(json.dumps(message.to_dict(), indent=2))\n",
    "\n",
    "### 3. Retrieve Messages\n",
    "\n",
    "Let's retrieve messages from a conversation:\n",
    "\n",
    "messages = client.conversations.list_messages(conversation_id=conversation_id)\n",
    "for message in messages:\n",
    "    print(json.dumps(message.to_dict(), indent=2))\n",
    "\n",
    "## Advanced Features\n",
    "\n",
    "### 1. Create a New Conversation\n",
    "\n",
    "Let's create a new conversation:\n",
    "\n",
    "new_conversation = client.conversations.create(\n",
    "    app_id=\"your_app_id\",  # Replace with your actual app ID\n",
    "    recipient={\n",
    "        \"contact_id\": \"recipient_contact_id\"  # Replace with the recipient's contact ID\n",
    "    }\n",
    ")\n",
    "print(json.dumps(new_conversation.to_dict(), indent=2))\n",
    "\n",
    "### 2. Update Conversation Metadata\n",
    "\n",
    "We can update the metadata of a conversation:\n",
    "\n",
    "updated_conversation = client.conversations.update(\n",
    "    conversation_id=conversation_id,\n",
    "    metadata={\n",
    "        \"custom_key\": \"custom_value\"\n",
    "    }\n",
    ")\n",
    "print(json.dumps(updated_conversation.to_dict(), indent=2))\n",
    "\n",
    "## Conclusion\n",
    "\n",
    "This guide provides an introduction to using the Sinch Conversation API with the official Sinch SDK in Jupyter Notebooks. The SDK provides a more intuitive and pythonic way to interact with the API, handling authentication and request formatting for you.\n",
    "\n",
    "Remember to handle errors, implement proper authentication, and follow Sinch's best practices and documentation for production use. The SDK documentation can provide more detailed information on available methods and their usage."
   ]
  },
  {
   "cell_type": "code",
   "execution_count": null,
   "id": "c8018b44-5125-40f9-85e2-0084b4b861b6",
   "metadata": {},
   "outputs": [],
   "source": [
    "import urllib.request\n",
    "import json"
   ]
  },
  {
   "cell_type": "markdown",
   "id": "9882012b-990a-4bfd-9aa0-d9161aee5de2",
   "metadata": {
    "jp-MarkdownHeadingCollapsed": true
   },
   "source": [
    "## Authentication\n",
    "\n",
    "To use the Sinch Conversation API, you'll need to set up your credentials. Replace the placeholders with your actual Sinch API credentials:"
   ]
  },
  {
   "cell_type": "code",
   "execution_count": null,
   "id": "f460ca65-5e06-4290-b1b0-dbde1c93bc5b",
   "metadata": {},
   "outputs": [],
   "source": [
    "SINCH_PROJECT_ID = \"your_project_id\"\n",
    "SINCH_API_TOKEN = \"your_api_token\"\n",
    "\n",
    "BASE_URL = \"https://eu.conversation.api.sinch.com/v1\""
   ]
  },
  {
   "cell_type": "markdown",
   "id": "e55c7e20-fcac-40a8-96a8-901fa7b6cf89",
   "metadata": {},
   "source": [
    "## Helper Functions\n",
    "\n",
    "Let's define a helper function to interact with the API:"
   ]
  },
  {
   "cell_type": "code",
   "execution_count": null,
   "id": "02253532-1ae8-4ae7-a841-622387365fe1",
   "metadata": {},
   "outputs": [],
   "source": [
    "def make_api_request(endpoint, method=\"GET\", data=None):\n",
    "    url = f\"{BASE_URL}{endpoint}\"\n",
    "    headers = {\n",
    "        \"Authorization\": f\"Bearer {SINCH_API_TOKEN}\",\n",
    "        \"Content-Type\": \"application/json\"\n",
    "    }\n",
    "    \n",
    "    req = urllib.request.Request(url, method=method, headers=headers)\n",
    "    \n",
    "    if data:\n",
    "        data = json.dumps(data).encode('utf-8')\n",
    "        req.data = data\n",
    "    \n",
    "    try:\n",
    "        with urllib.request.urlopen(req) as response:\n",
    "            return json.loads(response.read().decode('utf-8'))\n",
    "    except urllib.error.URLError as e:\n",
    "        print(f\"An error occurred: {e}\")\n",
    "        return None"
   ]
  },
  {
   "cell_type": "markdown",
   "id": "b2784d89-b46e-4262-a470-3ba12d2dd336",
   "metadata": {},
   "source": [
    "## Basic Operations\n",
    "\n",
    "### 1. List Conversations\n",
    "\n",
    "Let's retrieve a list of conversations:"
   ]
  },
  {
   "cell_type": "code",
   "execution_count": null,
   "id": "d5d2535e-0929-485f-81b1-d6cf687ebae3",
   "metadata": {},
   "outputs": [],
   "source": [
    "conversations = make_api_request(f\"/projects/{SINCH_PROJECT_ID}/conversations\")\n",
    "if conversations:\n",
    "    print(json.dumps(conversations, indent=2))"
   ]
  },
  {
   "cell_type": "markdown",
   "id": "9f324cc6-4ce6-420b-9b56-b8931d9cecf0",
   "metadata": {},
   "source": [
    "### 2. Send a Message\n",
    "\n",
    "Now, let's send a message to a specific conversation:"
   ]
  },
  {
   "cell_type": "code",
   "execution_count": null,
   "id": "e727a301-5dbd-47ec-9d0c-7b9b770f8622",
   "metadata": {},
   "outputs": [],
   "source": [
    "conversation_id = \"your_conversation_id\"  # Replace with an actual conversation ID\n",
    "message_data = {\n",
    "    \"app_message\": {\n",
    "        \"text_message\": {\n",
    "            \"text\": \"Hello from Jupyter!\"\n",
    "        }\n",
    "    }\n",
    "}\n",
    "\n",
    "response = make_api_request(f\"/projects/{SINCH_PROJECT_ID}/conversations/{conversation_id}/messages\", method=\"POST\", data=message_data)\n",
    "if response:\n",
    "    print(json.dumps(response, indent=2))\n"
   ]
  },
  {
   "cell_type": "markdown",
   "id": "445053e8-ef61-4aae-a4d8-777d4ffd6dc7",
   "metadata": {},
   "source": [
    "### 3. Retrieve Messages\n",
    "\n",
    "Let's retrieve messages from a conversation:"
   ]
  },
  {
   "cell_type": "code",
   "execution_count": null,
   "id": "6509b061-5f35-4143-bec5-598bc92e8d49",
   "metadata": {},
   "outputs": [],
   "source": [
    "messages = make_api_request(f\"/projects/{SINCH_PROJECT_ID}/conversations/{conversation_id}/messages\")\n",
    "if messages:\n",
    "    print(json.dumps(messages, indent=2))"
   ]
  },
  {
   "cell_type": "markdown",
   "id": "7a182470-1f47-4416-bd7a-0cef7514f0bb",
   "metadata": {},
   "source": [
    "## Conclusion\n",
    "\n",
    "This guide provides a basic introduction to using the Sinch Conversation API with Jupyter Notebooks, utilizing Python's standard libraries. You can expand on these examples to build more complex applications and integrations.\n",
    "\n",
    "Remember to handle errors, implement proper authentication, and follow Sinch's best practices and documentation for production use."
   ]
  }
 ],
 "metadata": {
  "kernelspec": {
   "display_name": "Python 3 (ipykernel)",
   "language": "python",
   "name": "python3"
  },
  "language_info": {
   "codemirror_mode": {
    "name": "ipython",
    "version": 3
   },
   "file_extension": ".py",
   "mimetype": "text/x-python",
   "name": "python",
   "nbconvert_exporter": "python",
   "pygments_lexer": "ipython3",
   "version": "3.11.6"
  }
 },
 "nbformat": 4,
 "nbformat_minor": 5
}
