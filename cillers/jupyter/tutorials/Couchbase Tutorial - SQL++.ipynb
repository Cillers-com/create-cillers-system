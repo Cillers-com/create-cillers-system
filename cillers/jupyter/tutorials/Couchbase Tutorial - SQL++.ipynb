{
 "cells": [
  {
   "cell_type": "markdown",
   "id": "aedff6b8-bc6c-4706-b91f-d87071eafaa2",
   "metadata": {},
   "source": [
    "# Couchbase Tutorial: SQL++\n",
    "\n",
    "## In this tutorial, we'll cover how to use SQL++ for:\n",
    "* Inserting Documents\n",
    "* Listing All Documents In A Collection\n",
    "* Updating Documents\n",
    "* Querying Using WHERE\n",
    "* Getting The Average Price Per Type By Aggregating Data Using GROUP BY\n",
    "* Understand Query Execution By Using EXPLAIN\n",
    "* Using Subqueries\n",
    "* Inserting Documents With References To Existing Documents\n",
    "* Using JOINs Between Collections\n",
    "* Filtering By Values In Nested Objects\n",
    "* Filtering Arrays\n",
    "* Expanding Documents To Return One Row Per Array Entry Using UNNEST\n",
    "* Full-Text Search: Setting Up An Index And Querying\n",
    "* Get The Top 3 Most Expensive Products For Each Type Using The Window Functions DENSE_RANK And ROW_NUMBER\n",
    "* Labeling Documents Using CASE Statements\n"
   ]
  },
  {
   "cell_type": "code",
   "execution_count": 1,
   "id": "7ff6b2c0-58c8-4faa-900c-a23158d53be8",
   "metadata": {},
   "outputs": [
    {
     "name": "stdout",
     "output_type": "stream",
     "text": [
      "\u001b[33mWARNING: The directory '/home/jovyan/.cache/pip' or its parent directory is not owned or is not writable by the current user. The cache has been disabled. Check the permissions and owner of that directory. If executing pip with sudo, you should use sudo's -H flag.\u001b[0m\u001b[33m\n",
      "\u001b[0mRequirement already satisfied: couchbase in /opt/conda/lib/python3.11/site-packages (4.3.1)\n",
      "Note: you may need to restart the kernel to use updated packages.\n"
     ]
    }
   ],
   "source": [
    "%pip install couchbase"
   ]
  },
  {
   "cell_type": "markdown",
   "id": "e813b86f-d08f-4f8e-9a6b-e1bfbdcd5980",
   "metadata": {},
   "source": [
    "## Set The Environment Variables\n",
    "\n",
    "This is typically done in the polytope.yml file. Here we initiate the environment variables to simulate that they were already set by Polytope. "
   ]
  },
  {
   "cell_type": "code",
   "execution_count": 2,
   "id": "4ae8389e-df99-4652-82d6-2524ab4e2ef5",
   "metadata": {},
   "outputs": [
    {
     "name": "stdout",
     "output_type": "stream",
     "text": [
      "env: COUCHBASE_USERNAME=admin\n",
      "env: COUCHBASE_PASSWORD=password\n",
      "env: COUCHBASE_BUCKET_NAME=main\n",
      "env: COUCHBASE_URL=couchbase://couchbase\n"
     ]
    }
   ],
   "source": [
    "%env COUCHBASE_USERNAME=admin\n",
    "%env COUCHBASE_PASSWORD=password\n",
    "%env COUCHBASE_BUCKET_NAME=main\n",
    "%env COUCHBASE_URL=couchbase://couchbase"
   ]
  },
  {
   "cell_type": "markdown",
   "id": "9c61d150-6672-4b5a-a974-ca67307e6d1a",
   "metadata": {},
   "source": [
    "## Module Import And Client Setup"
   ]
  },
  {
   "cell_type": "code",
   "execution_count": 4,
   "id": "d6ea11de-a40e-4f13-9965-c4f9b6096ade",
   "metadata": {},
   "outputs": [],
   "source": [
    "import os\n",
    "import uuid\n",
    "import json\n",
    "from datetime import timedelta\n",
    "import couchbase.subdocument as SD\n",
    "from couchbase.auth import PasswordAuthenticator\n",
    "from couchbase.cluster import Cluster\n",
    "from couchbase.options import (ClusterOptions, ClusterTimeoutOptions, QueryOptions, MutateInOptions)\n",
    "from couchbase.exceptions import ScopeAlreadyExistsException, CollectionAlreadyExistsException\n",
    "from couchbase.management.collections import CreateCollectionSettings\n",
    "\n",
    "COUCHBASE_USERNAME = os.environ['COUCHBASE_USERNAME']\n",
    "COUCHBASE_PASSWORD = os.environ['COUCHBASE_PASSWORD']\n",
    "COUCHBASE_BUCKET_NAME = os.environ['COUCHBASE_BUCKET_NAME']\n",
    "COUCHBASE_URL = os.environ['COUCHBASE_URL']\n",
    "# NOTE: For TLS/SSL connection use 'couchbases://' instead\n",
    "\n",
    "auth = PasswordAuthenticator(\n",
    "    COUCHBASE_USERNAME,\n",
    "    COUCHBASE_PASSWORD\n",
    ")\n",
    "cluster = Cluster(COUCHBASE_URL, ClusterOptions(auth))\n",
    "cluster.wait_until_ready(timedelta(seconds=5))\n",
    "bucket = cluster.bucket(COUCHBASE_BUCKET_NAME)"
   ]
  },
  {
   "cell_type": "markdown",
   "id": "cd035602-22d0-419e-b5b2-502cec5d0040",
   "metadata": {},
   "source": [
    "## Prepare The Example Scope And Collections"
   ]
  },
  {
   "cell_type": "code",
   "execution_count": 5,
   "id": "0651d7ec-ab43-4197-bd95-6ae5e3c05044",
   "metadata": {},
   "outputs": [
    {
     "name": "stdout",
     "output_type": "stream",
     "text": [
      "Scope 'cillers_play' already exists.\n",
      "Collection 'products' already exists in scope 'cillers_play'.\n",
      "Collection 'orders' already exists in scope 'cillers_play'.\n"
     ]
    }
   ],
   "source": [
    "def create_scope_and_collections(scope_name, collection_names):\n",
    "    collection_manager = bucket.collections()\n",
    "\n",
    "    # Create scope\n",
    "    try:\n",
    "        collection_manager.create_scope(scope_name)\n",
    "        print(f\"Scope '{scope_name}' created successfully.\")\n",
    "    except ScopeAlreadyExistsException:\n",
    "        print(f\"Scope '{scope_name}' already exists.\")\n",
    "    except Exception as e:\n",
    "        print(f\"An error occurred while creating scope: {e}\")\n",
    "\n",
    "    # Create collections\n",
    "    for collection_name in collection_names:\n",
    "        try:\n",
    "            collection_manager.create_collection(\n",
    "                scope_name,\n",
    "                collection_name,\n",
    "                CreateCollectionSettings()\n",
    "            )\n",
    "            print(f\"Collection '{collection_name}' created successfully in scope '{scope_name}'.\")\n",
    "        except CollectionAlreadyExistsException:\n",
    "            print(f\"Collection '{collection_name}' already exists in scope '{scope_name}'.\")\n",
    "        except Exception as e:\n",
    "            print(f\"An error occurred while creating collection '{collection_name}': {e}\")\n",
    "\n",
    "scope_name = \"cillers_play\"\n",
    "collection_name_products = \"products\"\n",
    "collection_name_orders = \"orders\"\n",
    "\n",
    "create_scope_and_collections(scope_name, [\n",
    "    collection_name_products,\n",
    "    collection_name_orders\n",
    "])"
   ]
  },
  {
   "cell_type": "markdown",
   "id": "4e221d41-6e3e-4434-a934-ce534523176e",
   "metadata": {},
   "source": [
    "## Inserting Documents"
   ]
  },
  {
   "cell_type": "code",
   "execution_count": 6,
   "id": "57850589-ebb1-4d49-b0e3-f015679b175b",
   "metadata": {},
   "outputs": [
    {
     "name": "stdout",
     "output_type": "stream",
     "text": [
      "Inserted products:\n",
      "{\n",
      "  \"products\": {\n",
      "    \"description\": \"A powerful and lightweight laptop with long battery life, perfect for professionals on the go.\",\n",
      "    \"details\": {\n",
      "      \"color\": \"Silver\",\n",
      "      \"processor\": \"Intel i7\",\n",
      "      \"ram\": \"16GB\"\n",
      "    },\n",
      "    \"name\": \"Laptop Pro\",\n",
      "    \"price\": 1299.99,\n",
      "    \"tags\": [\n",
      "      \"laptop\",\n",
      "      \"high-performance\",\n",
      "      \"lightweight\",\n",
      "      \"long battery life\"\n",
      "    ],\n",
      "    \"type\": \"Electronics\"\n",
      "  }\n",
      "}\n",
      "{\n",
      "  \"products\": {\n",
      "    \"description\": \"A powerful smartphone with 5G capability and a high-resolution camera.\",\n",
      "    \"details\": {\n",
      "      \"color\": \"Midnight Blue\",\n",
      "      \"screen_size\": \"6.1 inches\",\n",
      "      \"storage\": \"128GB\"\n",
      "    },\n",
      "    \"name\": \"Smartphone X\",\n",
      "    \"price\": 699.99,\n",
      "    \"tags\": [\n",
      "      \"smartphone\",\n",
      "      \"5G\",\n",
      "      \"high-resolution camera\",\n",
      "      \"water-resistant\"\n",
      "    ],\n",
      "    \"type\": \"Electronics\"\n",
      "  }\n",
      "}\n",
      "{\n",
      "  \"products\": {\n",
      "    \"description\": \"Lightweight and water-resistant wireless earbuds with excellent noise-cancelling capabilities.\",\n",
      "    \"details\": {\n",
      "      \"battery_life\": \"24 hours\",\n",
      "      \"color\": \"White\",\n",
      "      \"connectivity\": \"Bluetooth 5.0\"\n",
      "    },\n",
      "    \"name\": \"Wireless Earbuds\",\n",
      "    \"price\": 159.99,\n",
      "    \"tags\": [\n",
      "      \"earbuds\",\n",
      "      \"wireless\",\n",
      "      \"noise-cancelling\",\n",
      "      \"water-resistant\"\n",
      "    ],\n",
      "    \"type\": \"Electronics\"\n",
      "  }\n",
      "}\n",
      "{\n",
      "  \"products\": {\n",
      "    \"description\": \"A smart 4K TV with HDR and voice control for an immersive viewing experience.\",\n",
      "    \"details\": {\n",
      "      \"color\": \"Black\",\n",
      "      \"resolution\": \"4K\",\n",
      "      \"screen_size\": \"55 inches\"\n",
      "    },\n",
      "    \"name\": \"Smart TV 4K\",\n",
      "    \"price\": 799.99,\n",
      "    \"tags\": [\n",
      "      \"TV\",\n",
      "      \"4K\",\n",
      "      \"smart\",\n",
      "      \"HDR\",\n",
      "      \"voice control\"\n",
      "    ],\n",
      "    \"type\": \"Electronics\"\n",
      "  }\n",
      "}\n",
      "{\n",
      "  \"products\": {\n",
      "    \"description\": \"A programmable coffee maker with a thermal carafe to keep your coffee hot for hours.\",\n",
      "    \"details\": {\n",
      "      \"capacity\": \"12 cups\",\n",
      "      \"color\": \"Stainless Steel\",\n",
      "      \"features\": \"Programmable\"\n",
      "    },\n",
      "    \"name\": \"Coffee Maker Deluxe\",\n",
      "    \"price\": 129.99,\n",
      "    \"tags\": [\n",
      "      \"coffee maker\",\n",
      "      \"programmable\",\n",
      "      \"thermal carafe\"\n",
      "    ],\n",
      "    \"type\": \"Appliances\"\n",
      "  }\n",
      "}\n"
     ]
    }
   ],
   "source": [
    "insert_products_query = f\"\"\"\n",
    "INSERT INTO `{bucket.name}`.`{scope_name}`.`{collection_name_products}` (KEY, VALUE)\n",
    "VALUES \n",
    "    (\"product_\" || UUID(), {{\n",
    "        \"name\": \"Smartphone X\", \n",
    "        \"type\": \"Electronics\", \n",
    "        \"price\": 699.99, \n",
    "        \"details\": {{\n",
    "            \"color\": \"Midnight Blue\",\n",
    "            \"storage\": \"128GB\",\n",
    "            \"screen_size\": \"6.1 inches\"\n",
    "        }},\n",
    "        \"tags\": [\"smartphone\", \"5G\", \"high-resolution camera\", \"water-resistant\"],\n",
    "        \"description\": \"A powerful smartphone with 5G capability and a high-resolution camera.\"\n",
    "    }}),\n",
    "    (\"product_\" || UUID(), {{\n",
    "        \"name\": \"Laptop Pro\", \n",
    "        \"type\": \"Electronics\", \n",
    "        \"price\": 1299.99, \n",
    "        \"details\": {{\n",
    "            \"color\": \"Silver\",\n",
    "            \"processor\": \"Intel i7\",\n",
    "            \"ram\": \"16GB\"\n",
    "        }},\n",
    "        \"tags\": [\"laptop\", \"high-performance\", \"lightweight\", \"long battery life\"],\n",
    "        \"description\": \"A powerful and lightweight laptop with long battery life, perfect for professionals on the go.\"\n",
    "    }}),\n",
    "    (\"product_\" || UUID(), {{\n",
    "        \"name\": \"Smart TV 4K\", \n",
    "        \"type\": \"Electronics\", \n",
    "        \"price\": 799.99, \n",
    "        \"details\": {{\n",
    "            \"color\": \"Black\",\n",
    "            \"screen_size\": \"55 inches\",\n",
    "            \"resolution\": \"4K\"\n",
    "        }},\n",
    "        \"tags\": [\"TV\", \"4K\", \"smart\", \"HDR\", \"voice control\"],\n",
    "        \"description\": \"A smart 4K TV with HDR and voice control for an immersive viewing experience.\"\n",
    "    }}),\n",
    "    (\"product_\" || UUID(), {{\n",
    "        \"name\": \"Wireless Earbuds\", \n",
    "        \"type\": \"Electronics\", \n",
    "        \"price\": 159.99, \n",
    "        \"details\": {{\n",
    "            \"color\": \"White\",\n",
    "            \"battery_life\": \"24 hours\",\n",
    "            \"connectivity\": \"Bluetooth 5.0\"\n",
    "        }},\n",
    "        \"tags\": [\"earbuds\", \"wireless\", \"noise-cancelling\", \"water-resistant\"],\n",
    "        \"description\": \"Lightweight and water-resistant wireless earbuds with excellent noise-cancelling capabilities.\"\n",
    "    }}),\n",
    "    (\"product_\" || UUID(), {{\n",
    "        \"name\": \"Coffee Maker Deluxe\", \n",
    "        \"type\": \"Appliances\", \n",
    "        \"price\": 129.99, \n",
    "        \"details\": {{\n",
    "            \"color\": \"Stainless Steel\",\n",
    "            \"capacity\": \"12 cups\",\n",
    "            \"features\": \"Programmable\"\n",
    "        }},\n",
    "        \"tags\": [\"coffee maker\", \"programmable\", \"thermal carafe\"],\n",
    "        \"description\": \"A programmable coffee maker with a thermal carafe to keep your coffee hot for hours.\"\n",
    "    }})\n",
    "RETURNING *\n",
    "\"\"\"\n",
    "insert_products_result = cluster.query(insert_products_query)\n",
    "print(\"Inserted products:\")\n",
    "for row in insert_products_result:\n",
    "    print(json.dumps(row, indent=2))"
   ]
  },
  {
   "cell_type": "markdown",
   "id": "cd947099-199b-46b3-b49f-f19ed9035122",
   "metadata": {},
   "source": [
    "## Listing All Documents In A Collection"
   ]
  },
  {
   "cell_type": "code",
   "execution_count": 8,
   "id": "a48d7a82-422a-430c-b8fa-7195e61278e5",
   "metadata": {},
   "outputs": [
    {
     "name": "stdout",
     "output_type": "stream",
     "text": [
      "{\n",
      "  \"id\": \"product_a59c5bda-a001-473a-a676-96ff95b7b975\",\n",
      "  \"products\": {\n",
      "    \"description\": \"A powerful and lightweight laptop with long battery life, perfect for professionals on the go.\",\n",
      "    \"details\": {\n",
      "      \"color\": \"Silver\",\n",
      "      \"processor\": \"Intel i7\",\n",
      "      \"ram\": \"16GB\"\n",
      "    },\n",
      "    \"name\": \"Laptop Pro\",\n",
      "    \"price\": 1299.99,\n",
      "    \"tags\": [\n",
      "      \"laptop\",\n",
      "      \"high-performance\",\n",
      "      \"lightweight\",\n",
      "      \"long battery life\"\n",
      "    ],\n",
      "    \"type\": \"Electronics\"\n",
      "  }\n",
      "}\n",
      "{\n",
      "  \"id\": \"56ddbaea-768c-11ef-958f-0242ac11000f\",\n",
      "  \"products\": {\n",
      "    \"name\": \"Jupyter A\"\n",
      "  }\n",
      "}\n",
      "{\n",
      "  \"id\": \"product_02831be9-e38b-4cf8-b0b1-e5bdfcfaa52d\",\n",
      "  \"products\": {\n",
      "    \"description\": \"Lightweight and water-resistant wireless earbuds with excellent noise-cancelling capabilities.\",\n",
      "    \"details\": {\n",
      "      \"battery_life\": \"24 hours\",\n",
      "      \"color\": \"White\",\n",
      "      \"connectivity\": \"Bluetooth 5.0\"\n",
      "    },\n",
      "    \"name\": \"Wireless Earbuds\",\n",
      "    \"price\": 159.99,\n",
      "    \"tags\": [\n",
      "      \"earbuds\",\n",
      "      \"wireless\",\n",
      "      \"noise-cancelling\",\n",
      "      \"water-resistant\"\n",
      "    ],\n",
      "    \"type\": \"Electronics\"\n",
      "  }\n",
      "}\n",
      "{\n",
      "  \"id\": \"product_8dedf1d6-0f70-4093-b8ae-7c5587116090\",\n",
      "  \"products\": {\n",
      "    \"description\": \"A powerful smartphone with 5G capability and a high-resolution camera.\",\n",
      "    \"details\": {\n",
      "      \"color\": \"Midnight Blue\",\n",
      "      \"screen_size\": \"6.1 inches\",\n",
      "      \"storage\": \"128GB\"\n",
      "    },\n",
      "    \"name\": \"Smartphone X\",\n",
      "    \"price\": 699.99,\n",
      "    \"tags\": [\n",
      "      \"smartphone\",\n",
      "      \"5G\",\n",
      "      \"high-resolution camera\",\n",
      "      \"water-resistant\"\n",
      "    ],\n",
      "    \"type\": \"Electronics\"\n",
      "  }\n",
      "}\n",
      "{\n",
      "  \"id\": \"product_7a605790-acd9-49cf-8337-a46e76beaedc\",\n",
      "  \"products\": {\n",
      "    \"description\": \"A programmable coffee maker with a thermal carafe to keep your coffee hot for hours.\",\n",
      "    \"details\": {\n",
      "      \"capacity\": \"12 cups\",\n",
      "      \"color\": \"Stainless Steel\",\n",
      "      \"features\": \"Programmable\"\n",
      "    },\n",
      "    \"name\": \"Coffee Maker Deluxe\",\n",
      "    \"price\": 142.98900000000003,\n",
      "    \"tags\": [\n",
      "      \"coffee maker\",\n",
      "      \"programmable\",\n",
      "      \"thermal carafe\"\n",
      "    ],\n",
      "    \"type\": \"Appliances\"\n",
      "  }\n",
      "}\n",
      "{\n",
      "  \"id\": \"product_899b8bf1-666c-4188-95bf-e5b33e3601ef\",\n",
      "  \"products\": {\n",
      "    \"description\": \"A powerful and lightweight laptop with long battery life, perfect for professionals on the go.\",\n",
      "    \"details\": {\n",
      "      \"color\": \"Silver\",\n",
      "      \"processor\": \"Intel i7\",\n",
      "      \"ram\": \"16GB\"\n",
      "    },\n",
      "    \"name\": \"Laptop Pro\",\n",
      "    \"price\": 1299.99,\n",
      "    \"tags\": [\n",
      "      \"laptop\",\n",
      "      \"high-performance\",\n",
      "      \"lightweight\",\n",
      "      \"long battery life\"\n",
      "    ],\n",
      "    \"type\": \"Electronics\"\n",
      "  }\n",
      "}\n",
      "{\n",
      "  \"id\": \"product_54841989-7909-464f-a9a9-7d721e445437\",\n",
      "  \"products\": {\n",
      "    \"description\": \"A smart 4K TV with HDR and voice control for an immersive viewing experience.\",\n",
      "    \"details\": {\n",
      "      \"color\": \"Black\",\n",
      "      \"resolution\": \"4K\",\n",
      "      \"screen_size\": \"55 inches\"\n",
      "    },\n",
      "    \"name\": \"Smart TV 4K\",\n",
      "    \"price\": 799.99,\n",
      "    \"tags\": [\n",
      "      \"TV\",\n",
      "      \"4K\",\n",
      "      \"smart\",\n",
      "      \"HDR\",\n",
      "      \"voice control\"\n",
      "    ],\n",
      "    \"type\": \"Electronics\"\n",
      "  }\n",
      "}\n",
      "{\n",
      "  \"id\": \"product_65501302-0c65-4744-8ca3-d93c2b782df4\",\n",
      "  \"products\": {\n",
      "    \"description\": \"A programmable coffee maker with a thermal carafe to keep your coffee hot for hours.\",\n",
      "    \"details\": {\n",
      "      \"capacity\": \"12 cups\",\n",
      "      \"color\": \"Stainless Steel\",\n",
      "      \"features\": \"Programmable\"\n",
      "    },\n",
      "    \"name\": \"Coffee Maker Deluxe\",\n",
      "    \"price\": 129.99,\n",
      "    \"tags\": [\n",
      "      \"coffee maker\",\n",
      "      \"programmable\",\n",
      "      \"thermal carafe\"\n",
      "    ],\n",
      "    \"type\": \"Appliances\"\n",
      "  }\n",
      "}\n",
      "{\n",
      "  \"id\": \"product_7e79562b-6ec7-4abf-9718-80e433b349f3\",\n",
      "  \"products\": {\n",
      "    \"description\": \"A smart 4K TV with HDR and voice control for an immersive viewing experience.\",\n",
      "    \"details\": {\n",
      "      \"color\": \"Black\",\n",
      "      \"resolution\": \"4K\",\n",
      "      \"screen_size\": \"55 inches\"\n",
      "    },\n",
      "    \"name\": \"Smart TV 4K\",\n",
      "    \"price\": 799.99,\n",
      "    \"tags\": [\n",
      "      \"TV\",\n",
      "      \"4K\",\n",
      "      \"smart\",\n",
      "      \"HDR\",\n",
      "      \"voice control\"\n",
      "    ],\n",
      "    \"type\": \"Electronics\"\n",
      "  }\n",
      "}\n",
      "{\n",
      "  \"id\": \"product_3fd4fc88-6ced-46e5-aa3d-9cb6163edafd\",\n",
      "  \"products\": {\n",
      "    \"description\": \"Lightweight and water-resistant wireless earbuds with excellent noise-cancelling capabilities.\",\n",
      "    \"details\": {\n",
      "      \"battery_life\": \"24 hours\",\n",
      "      \"color\": \"White\",\n",
      "      \"connectivity\": \"Bluetooth 5.0\"\n",
      "    },\n",
      "    \"name\": \"Wireless Earbuds\",\n",
      "    \"price\": 159.99,\n",
      "    \"tags\": [\n",
      "      \"earbuds\",\n",
      "      \"wireless\",\n",
      "      \"noise-cancelling\",\n",
      "      \"water-resistant\"\n",
      "    ],\n",
      "    \"type\": \"Electronics\"\n",
      "  }\n",
      "}\n",
      "{\n",
      "  \"id\": \"product_80661d25-8b48-4d97-84f6-084108b45249\",\n",
      "  \"products\": {\n",
      "    \"description\": \"A powerful smartphone with 5G capability and a high-resolution camera.\",\n",
      "    \"details\": {\n",
      "      \"color\": \"Midnight Blue\",\n",
      "      \"screen_size\": \"6.1 inches\",\n",
      "      \"storage\": \"128GB\"\n",
      "    },\n",
      "    \"name\": \"Smartphone X\",\n",
      "    \"price\": 699.99,\n",
      "    \"tags\": [\n",
      "      \"smartphone\",\n",
      "      \"5G\",\n",
      "      \"high-resolution camera\",\n",
      "      \"water-resistant\"\n",
      "    ],\n",
      "    \"type\": \"Electronics\"\n",
      "  }\n",
      "}\n"
     ]
    }
   ],
   "source": [
    "query_string = f\"\"\"\n",
    "SELECT META(`{collection_name_products}`).id, *\n",
    "FROM `{bucket.name}`.`{scope_name}`.`{collection_name_products}` AS `{collection_name_products}`\n",
    "\"\"\"\n",
    "query_result = cluster.query(query_string)\n",
    "for row in query_result:\n",
    "    print(json.dumps(row, indent=2))"
   ]
  },
  {
   "cell_type": "markdown",
   "id": "9c9c3f67-5f42-47b7-99ef-752eb2d7e15c",
   "metadata": {},
   "source": [
    "## Updating Documents"
   ]
  },
  {
   "cell_type": "code",
   "execution_count": 9,
   "id": "42b9123e-0240-4435-901d-f9ca4aa42f2e",
   "metadata": {},
   "outputs": [
    {
     "name": "stdout",
     "output_type": "stream",
     "text": [
      "{\n",
      "  \"products\": {\n",
      "    \"description\": \"A programmable coffee maker with a thermal carafe to keep your coffee hot for hours.\",\n",
      "    \"details\": {\n",
      "      \"capacity\": \"12 cups\",\n",
      "      \"color\": \"Stainless Steel\",\n",
      "      \"features\": \"Programmable\"\n",
      "    },\n",
      "    \"name\": \"Coffee Maker Deluxe\",\n",
      "    \"price\": 157.28790000000004,\n",
      "    \"tags\": [\n",
      "      \"coffee maker\",\n",
      "      \"programmable\",\n",
      "      \"thermal carafe\"\n",
      "    ],\n",
      "    \"type\": \"Appliances\"\n",
      "  }\n",
      "}\n",
      "{\n",
      "  \"products\": {\n",
      "    \"description\": \"A programmable coffee maker with a thermal carafe to keep your coffee hot for hours.\",\n",
      "    \"details\": {\n",
      "      \"capacity\": \"12 cups\",\n",
      "      \"color\": \"Stainless Steel\",\n",
      "      \"features\": \"Programmable\"\n",
      "    },\n",
      "    \"name\": \"Coffee Maker Deluxe\",\n",
      "    \"price\": 142.98900000000003,\n",
      "    \"tags\": [\n",
      "      \"coffee maker\",\n",
      "      \"programmable\",\n",
      "      \"thermal carafe\"\n",
      "    ],\n",
      "    \"type\": \"Appliances\"\n",
      "  }\n",
      "}\n"
     ]
    }
   ],
   "source": [
    "update_query = f\"\"\"\n",
    "UPDATE `{bucket.name}`.`{scope_name}`.`{collection_name_products}`\n",
    "SET price = price * 1.1\n",
    "WHERE type = \"Appliances\"\n",
    "RETURNING *\n",
    "\"\"\"\n",
    "update_result = cluster.query(update_query)\n",
    "for row in update_result:\n",
    "    print(json.dumps(row, indent=2))"
   ]
  },
  {
   "cell_type": "markdown",
   "id": "d90bdd15-4057-4e84-8766-29a6a91eacc1",
   "metadata": {},
   "source": [
    "## Querying Using WHERE"
   ]
  },
  {
   "cell_type": "code",
   "execution_count": 10,
   "id": "a8df92c6-2489-4849-b69f-3d61b50dc2a7",
   "metadata": {},
   "outputs": [
    {
     "name": "stdout",
     "output_type": "stream",
     "text": [
      "{'name': 'Smart TV 4K', 'price': 799.99}\n",
      "{'name': 'Smart TV 4K', 'price': 799.99}\n",
      "{'name': 'Laptop Pro', 'price': 1299.99}\n",
      "{'name': 'Laptop Pro', 'price': 1299.99}\n"
     ]
    }
   ],
   "source": [
    "condition_query = f\"\"\"\n",
    "SELECT name, price\n",
    "FROM `{bucket.name}`.`{scope_name}`.`{collection_name_products}`\n",
    "WHERE price > 700 AND type = \"Electronics\"\n",
    "\"\"\"\n",
    "condition_result = cluster.query(condition_query)\n",
    "for row in condition_result:\n",
    "    print(row)"
   ]
  },
  {
   "cell_type": "markdown",
   "id": "809b892b-c409-48c8-8679-45ba350c8b29",
   "metadata": {},
   "source": [
    "## Getting The Average Price Per Type By Aggregating Data Using GROUP BY"
   ]
  },
  {
   "cell_type": "code",
   "execution_count": 11,
   "id": "232aba40-34b0-4ee8-b1e6-07f11f656ae0",
   "metadata": {},
   "outputs": [
    {
     "name": "stdout",
     "output_type": "stream",
     "text": [
      "{'avg_price': None, 'count': 1}\n",
      "{'avg_price': 739.9899999999999, 'count': 8, 'type': 'Electronics'}\n",
      "{'avg_price': 150.13845000000003, 'count': 2, 'type': 'Appliances'}\n"
     ]
    }
   ],
   "source": [
    "aggregate_query = f\"\"\"\n",
    "SELECT type, COUNT(*) as count, AVG(price) as avg_price\n",
    "FROM `{bucket.name}`.`{scope_name}`.`{collection_name_products}`\n",
    "GROUP BY type\n",
    "\"\"\"\n",
    "aggregate_result = cluster.query(aggregate_query)\n",
    "for row in aggregate_result:\n",
    "    print(row)"
   ]
  },
  {
   "cell_type": "markdown",
   "id": "bf630642-6a98-4761-a1d6-6d0b68975fec",
   "metadata": {},
   "source": [
    "## Understand Query Execution By Using EXPLAIN"
   ]
  },
  {
   "cell_type": "code",
   "execution_count": 12,
   "id": "b2c0c8d4-af21-4c1c-981c-1f43ea1cc63c",
   "metadata": {},
   "outputs": [
    {
     "name": "stdout",
     "output_type": "stream",
     "text": [
      "Explain Plan:\n",
      "{\n",
      "  \"plan\": {\n",
      "    \"#operator\": \"Sequence\",\n",
      "    \"~children\": [\n",
      "      {\n",
      "        \"#operator\": \"PrimaryScan3\",\n",
      "        \"bucket\": \"main\",\n",
      "        \"index\": \"#sequentialscan\",\n",
      "        \"index_projection\": {\n",
      "          \"primary_key\": true\n",
      "        },\n",
      "        \"keyspace\": \"products\",\n",
      "        \"namespace\": \"default\",\n",
      "        \"scope\": \"cillers_play\",\n",
      "        \"using\": \"sequentialscan\"\n",
      "      },\n",
      "      {\n",
      "        \"#operator\": \"Fetch\",\n",
      "        \"bucket\": \"main\",\n",
      "        \"keyspace\": \"products\",\n",
      "        \"namespace\": \"default\",\n",
      "        \"scope\": \"cillers_play\"\n",
      "      },\n",
      "      {\n",
      "        \"#operator\": \"Parallel\",\n",
      "        \"~child\": {\n",
      "          \"#operator\": \"Sequence\",\n",
      "          \"~children\": [\n",
      "            {\n",
      "              \"#operator\": \"Filter\",\n",
      "              \"condition\": \"(100 < (`products`.`price`))\"\n",
      "            },\n",
      "            {\n",
      "              \"#operator\": \"InitialProject\",\n",
      "              \"discard_original\": true,\n",
      "              \"preserve_order\": true,\n",
      "              \"result_terms\": [\n",
      "                {\n",
      "                  \"expr\": \"self\",\n",
      "                  \"star\": true\n",
      "                }\n",
      "              ]\n",
      "            }\n",
      "          ]\n",
      "        }\n",
      "      }\n",
      "    ]\n",
      "  },\n",
      "  \"text\": \"SELECT *\\nFROM `main`.`cillers_play`.`products`\\nWHERE price > 100\"\n",
      "}\n"
     ]
    }
   ],
   "source": [
    "explain_query = f\"\"\"\n",
    "EXPLAIN SELECT *\n",
    "FROM `{bucket.name}`.`{scope_name}`.`{collection_name_products}`\n",
    "WHERE price > 100\n",
    "\"\"\"\n",
    "explain_result = cluster.query(explain_query)\n",
    "print(\"Explain Plan:\")\n",
    "for row in explain_result:\n",
    "    formatted_json = json.dumps(row, indent=2)\n",
    "    print(formatted_json)"
   ]
  },
  {
   "cell_type": "markdown",
   "id": "c10d8124-57d5-4a7c-a6da-0326b4777dea",
   "metadata": {},
   "source": [
    "## Using Subqueries"
   ]
  },
  {
   "cell_type": "code",
   "execution_count": 13,
   "id": "4b7cd265-4cd4-4253-adc1-8e984ad7e8dc",
   "metadata": {},
   "outputs": [
    {
     "name": "stdout",
     "output_type": "stream",
     "text": [
      "Products above average price:\n",
      "{\n",
      "  \"name\": \"Laptop Pro\",\n",
      "  \"price\": 1299.99\n",
      "}\n",
      "{\n",
      "  \"name\": \"Laptop Pro\",\n",
      "  \"price\": 1299.99\n",
      "}\n",
      "{\n",
      "  \"name\": \"Smart TV 4K\",\n",
      "  \"price\": 799.99\n",
      "}\n",
      "{\n",
      "  \"name\": \"Smart TV 4K\",\n",
      "  \"price\": 799.99\n",
      "}\n",
      "{\n",
      "  \"name\": \"Smartphone X\",\n",
      "  \"price\": 699.99\n",
      "}\n",
      "{\n",
      "  \"name\": \"Smartphone X\",\n",
      "  \"price\": 699.99\n",
      "}\n"
     ]
    }
   ],
   "source": [
    "subquery = f\"\"\"\n",
    "WITH avg_price AS (\n",
    "    SELECT AVG(price) as avg\n",
    "    FROM `{bucket.name}`.`{scope_name}`.`{collection_name_products}`\n",
    ")\n",
    "SELECT p.name, p.price\n",
    "FROM `{bucket.name}`.`{scope_name}`.`{collection_name_products}` p, avg_price\n",
    "WHERE p.price > avg_price.avg\n",
    "ORDER BY p.price DESC\n",
    "\"\"\"\n",
    "subquery_result = cluster.query(subquery)\n",
    "print(\"Products above average price:\")\n",
    "for row in subquery_result:\n",
    "    print(json.dumps(row, indent=2))"
   ]
  },
  {
   "cell_type": "markdown",
   "id": "aafe61ef-7aa9-4f7c-b2c0-c62d64dba1b6",
   "metadata": {},
   "source": [
    "## Inserting Documents With References To Existing Documents"
   ]
  },
  {
   "cell_type": "code",
   "execution_count": 14,
   "id": "1fc8f81b-b4df-4c77-a284-4defae6fcdf1",
   "metadata": {
    "scrolled": true
   },
   "outputs": [
    {
     "name": "stdout",
     "output_type": "stream",
     "text": [
      "\n",
      "Inserted orders:\n",
      "{'orders': {'order_id': 'order_dc303a78-0521-4931-b574-c9186d037993', 'product_id': 'product_3fd4fc88-6ced-46e5-aa3d-9cb6163edafd', 'quantity': 1}}\n",
      "{'orders': {'order_id': 'order_950a51c4-8d1e-4b87-8bf5-fcdf5705c8be', 'product_id': '56ddbaea-768c-11ef-958f-0242ac11000f', 'quantity': 1}}\n",
      "{'orders': {'order_id': 'order_edea0674-dcf0-4027-ac9c-daf516bbf44e', 'product_id': 'product_a59c5bda-a001-473a-a676-96ff95b7b975', 'quantity': 1}}\n",
      "{'orders': {'order_id': 'order_7d197916-9f56-42f9-9fc9-755a7b921ad7', 'product_id': 'product_02831be9-e38b-4cf8-b0b1-e5bdfcfaa52d', 'quantity': 1}}\n",
      "{'orders': {'order_id': 'order_82ecbbbd-3036-4c9d-83a6-649927a12608', 'product_id': 'product_8dedf1d6-0f70-4093-b8ae-7c5587116090', 'quantity': 1}}\n",
      "{'orders': {'order_id': 'order_bd41eba7-ed3a-4558-8a9e-857820366180', 'product_id': 'product_7a605790-acd9-49cf-8337-a46e76beaedc', 'quantity': 1}}\n",
      "{'orders': {'order_id': 'order_cc2ba784-e264-4f67-835c-29dadd538cc5', 'product_id': 'product_80661d25-8b48-4d97-84f6-084108b45249', 'quantity': 1}}\n",
      "{'orders': {'order_id': 'order_dbc4f3cb-6125-48b9-98b0-3d88b1f9bd2f', 'product_id': 'product_54841989-7909-464f-a9a9-7d721e445437', 'quantity': 1}}\n",
      "{'orders': {'order_id': 'order_ff560143-7277-46ad-911b-9a0a75023009', 'product_id': 'product_7e79562b-6ec7-4abf-9718-80e433b349f3', 'quantity': 1}}\n",
      "{'orders': {'order_id': 'order_dd394ed4-c1ee-4c0b-8a88-07603e2d674d', 'product_id': 'product_899b8bf1-666c-4188-95bf-e5b33e3601ef', 'quantity': 1}}\n",
      "{'orders': {'order_id': 'order_8982ded0-67ef-413a-bfb7-ac7c8dd69062', 'product_id': 'product_65501302-0c65-4744-8ca3-d93c2b782df4', 'quantity': 1}}\n"
     ]
    }
   ],
   "source": [
    "# Fetch products\n",
    "fetch_products_query = f\"\"\"\n",
    "SELECT META().id as product_id, name\n",
    "FROM `{bucket.name}`.`{scope_name}`.`{collection_name_products}`\n",
    "\"\"\"\n",
    "products_result = cluster.query(fetch_products_query)\n",
    "products = list(products_result)\n",
    "\n",
    "# Insert orders\n",
    "insert_orders_query = f\"\"\"\n",
    "INSERT INTO `{bucket.name}`.`{scope_name}`.`{collection_name_orders}` (KEY, VALUE)\n",
    "VALUES \n",
    "\"\"\"\n",
    "\n",
    "for product in products:\n",
    "    insert_orders_query += f\"\"\"\n",
    "    (\"order_\" || UUID(), {{\n",
    "        \"order_id\": \"order_\" || UUID(),\n",
    "        \"product_id\": \"{product['product_id']}\",\n",
    "        \"quantity\": 1\n",
    "    }}),\n",
    "    \"\"\"\n",
    "\n",
    "# Remove the trailing comma and add RETURNING clause\n",
    "insert_orders_query = insert_orders_query.rstrip(',\\n ') + \"\\nRETURNING *\"\n",
    "\n",
    "insert_orders_result = cluster.query(insert_orders_query)\n",
    "print(\"\\nInserted orders:\")\n",
    "for row in insert_orders_result:\n",
    "    print(row)"
   ]
  },
  {
   "cell_type": "markdown",
   "id": "fd29dff7-ff5e-428a-ab4f-541895674696",
   "metadata": {},
   "source": [
    "## Using JOINs Between Collections"
   ]
  },
  {
   "cell_type": "code",
   "execution_count": 15,
   "id": "c613debe-38af-48bd-afe8-e41fe2f041e0",
   "metadata": {},
   "outputs": [
    {
     "name": "stdout",
     "output_type": "stream",
     "text": [
      "{'name': 'Coffee Maker Deluxe', 'order_id': 'order_bd41eba7-ed3a-4558-8a9e-857820366180', 'price': 157.28790000000004}\n",
      "{'name': 'Laptop Pro', 'order_id': 'order_dd394ed4-c1ee-4c0b-8a88-07603e2d674d', 'price': 1299.99}\n",
      "{'name': 'Wireless Earbuds', 'order_id': 'order_2336756f-7e31-4327-a13e-610906302349', 'price': 159.99}\n",
      "{'name': 'Smart TV 4K', 'order_id': 'order_462de7dd-b20e-4924-9b96-ab8f7542ae44', 'price': 799.99}\n",
      "{'name': 'Smartphone X', 'order_id': 'order_cc2ba784-e264-4f67-835c-29dadd538cc5', 'price': 699.99}\n",
      "{'name': 'Smartphone X', 'order_id': 'order_a3cc3e82-afb2-4cd7-940b-60b37cdb4f9a', 'price': 699.99}\n",
      "{'name': 'Smart TV 4K', 'order_id': 'order_ff560143-7277-46ad-911b-9a0a75023009', 'price': 799.99}\n",
      "{'name': 'Smart TV 4K', 'order_id': 'order_dbc4f3cb-6125-48b9-98b0-3d88b1f9bd2f', 'price': 799.99}\n",
      "{'name': 'Smartphone X', 'order_id': 'order_82ecbbbd-3036-4c9d-83a6-649927a12608', 'price': 699.99}\n",
      "{'name': 'Wireless Earbuds', 'order_id': 'order_dc303a78-0521-4931-b574-c9186d037993', 'price': 159.99}\n",
      "{'name': 'Wireless Earbuds', 'order_id': 'order_7d197916-9f56-42f9-9fc9-755a7b921ad7', 'price': 159.99}\n",
      "{'name': 'Coffee Maker Deluxe', 'order_id': 'order_67718ada-8de0-40c2-a256-abf92137c2e7', 'price': 157.28790000000004}\n",
      "{'name': 'Coffee Maker Deluxe', 'order_id': 'order_8982ded0-67ef-413a-bfb7-ac7c8dd69062', 'price': 142.98900000000003}\n",
      "{'name': 'Laptop Pro', 'order_id': 'order_edea0674-dcf0-4027-ac9c-daf516bbf44e', 'price': 1299.99}\n",
      "{'name': 'Laptop Pro', 'order_id': 'order_6207af03-c454-4ea1-aa90-06cbab0cd802', 'price': 1299.99}\n"
     ]
    }
   ],
   "source": [
    "join_query = f\"\"\"\n",
    "SELECT p.name, p.price, o.order_id, o.customer_name\n",
    "FROM `{bucket.name}`.`{scope_name}`.`{collection_name_orders}` AS o\n",
    "JOIN `{bucket.name}`.`{scope_name}`.`{collection_name_products}` AS p\n",
    "ON KEYS o.product_id\n",
    "WHERE p.price > 40\n",
    "\"\"\"\n",
    "\n",
    "join_result = cluster.query(join_query)\n",
    "\n",
    "for row in join_result:\n",
    "    print(row)"
   ]
  },
  {
   "cell_type": "markdown",
   "id": "a284b30b-b224-466e-aeee-62396aabe2d5",
   "metadata": {},
   "source": [
    "## Filtering By Values In Nested Objects"
   ]
  },
  {
   "cell_type": "code",
   "execution_count": 16,
   "id": "c705c428-5ac2-4901-a575-c80b2962c287",
   "metadata": {},
   "outputs": [
    {
     "name": "stdout",
     "output_type": "stream",
     "text": [
      "Matching products:\n",
      "{'color': 'Black', 'name': 'Smart TV 4K', 'screen_size': '55 inches'}\n",
      "{'color': 'Black', 'name': 'Smart TV 4K', 'screen_size': '55 inches'}\n"
     ]
    }
   ],
   "source": [
    "nested_query = f\"\"\"\n",
    "SELECT name, details.color, details.screen_size\n",
    "FROM `{bucket.name}`.`{scope_name}`.`{collection_name_products}`\n",
    "WHERE details.color = \"Black\"\n",
    "\"\"\"\n",
    "\n",
    "print(\"Matching products:\")\n",
    "nested_result = cluster.query(nested_query)\n",
    "for row in nested_result:\n",
    "    print(row)"
   ]
  },
  {
   "cell_type": "markdown",
   "id": "e18bc750-5832-437b-bb2f-c71833c4186d",
   "metadata": {},
   "source": [
    "## Filtering Arrays"
   ]
  },
  {
   "cell_type": "code",
   "execution_count": 17,
   "id": "b78ac49e-71a7-4aa3-8e80-bc9c502c78aa",
   "metadata": {},
   "outputs": [
    {
     "name": "stdout",
     "output_type": "stream",
     "text": [
      "Products with highlighted features:\n",
      "{'feature_count': 4, 'highlighted_features': ['high-performance'], 'name': 'Laptop Pro', 'price': 1299.99}\n",
      "{'feature_count': 4, 'highlighted_features': ['high-performance'], 'name': 'Laptop Pro', 'price': 1299.99}\n",
      "{'feature_count': 5, 'highlighted_features': [], 'name': 'Smart TV 4K', 'price': 799.99}\n",
      "{'feature_count': 5, 'highlighted_features': [], 'name': 'Smart TV 4K', 'price': 799.99}\n",
      "{'feature_count': 4, 'highlighted_features': ['water-resistant'], 'name': 'Smartphone X', 'price': 699.99}\n",
      "{'feature_count': 4, 'highlighted_features': ['water-resistant'], 'name': 'Smartphone X', 'price': 699.99}\n",
      "{'feature_count': 4, 'highlighted_features': ['noise-cancelling', 'water-resistant'], 'name': 'Wireless Earbuds', 'price': 159.99}\n",
      "{'feature_count': 4, 'highlighted_features': ['noise-cancelling', 'water-resistant'], 'name': 'Wireless Earbuds', 'price': 159.99}\n"
     ]
    }
   ],
   "source": [
    "array_query = f\"\"\"\n",
    "SELECT name, price,\n",
    "       ARRAY v FOR v IN tags WHEN v IN [\"water-resistant\", \"noise-cancelling\", \"high-performance\"] END AS highlighted_features,\n",
    "       ARRAY_LENGTH(tags) AS feature_count\n",
    "FROM `{bucket.name}`.`{scope_name}`.`{collection_name_products}`\n",
    "WHERE type = \"Electronics\"\n",
    "ORDER BY price DESC\n",
    "\"\"\"\n",
    "print(\"Products with highlighted features:\")\n",
    "array_result = cluster.query(array_query)\n",
    "for row in array_result:\n",
    "    print(row)"
   ]
  },
  {
   "cell_type": "markdown",
   "id": "30f4dbee-58d9-48b8-ba50-4c4550a0a844",
   "metadata": {},
   "source": [
    "## Expanding Documents To Return One Row Per Array Entry Using UNNEST"
   ]
  },
  {
   "cell_type": "code",
   "execution_count": 19,
   "id": "610de86c-7a9c-45e0-abd6-50fa1aa4613d",
   "metadata": {},
   "outputs": [
    {
     "name": "stdout",
     "output_type": "stream",
     "text": [
      "{'name': 'Laptop Pro', 'tag': 'laptop'}\n",
      "{'name': 'Laptop Pro', 'tag': 'high-performance'}\n",
      "{'name': 'Laptop Pro', 'tag': 'lightweight'}\n",
      "{'name': 'Laptop Pro', 'tag': 'long battery life'}\n",
      "{'name': 'Smart TV 4K', 'tag': 'TV'}\n",
      "{'name': 'Smart TV 4K', 'tag': '4K'}\n",
      "{'name': 'Smart TV 4K', 'tag': 'smart'}\n",
      "{'name': 'Smart TV 4K', 'tag': 'HDR'}\n",
      "{'name': 'Smart TV 4K', 'tag': 'voice control'}\n",
      "{'name': 'Laptop Pro', 'tag': 'laptop'}\n",
      "{'name': 'Laptop Pro', 'tag': 'high-performance'}\n",
      "{'name': 'Laptop Pro', 'tag': 'lightweight'}\n",
      "{'name': 'Laptop Pro', 'tag': 'long battery life'}\n",
      "{'name': 'Smartphone X', 'tag': 'smartphone'}\n",
      "{'name': 'Smartphone X', 'tag': '5G'}\n",
      "{'name': 'Smartphone X', 'tag': 'high-resolution camera'}\n",
      "{'name': 'Smartphone X', 'tag': 'water-resistant'}\n",
      "{'name': 'Wireless Earbuds', 'tag': 'earbuds'}\n",
      "{'name': 'Wireless Earbuds', 'tag': 'wireless'}\n",
      "{'name': 'Wireless Earbuds', 'tag': 'noise-cancelling'}\n",
      "{'name': 'Wireless Earbuds', 'tag': 'water-resistant'}\n",
      "{'name': 'Coffee Maker Deluxe', 'tag': 'coffee maker'}\n",
      "{'name': 'Coffee Maker Deluxe', 'tag': 'programmable'}\n",
      "{'name': 'Coffee Maker Deluxe', 'tag': 'thermal carafe'}\n",
      "{'name': 'Coffee Maker Deluxe', 'tag': 'coffee maker'}\n",
      "{'name': 'Coffee Maker Deluxe', 'tag': 'programmable'}\n",
      "{'name': 'Coffee Maker Deluxe', 'tag': 'thermal carafe'}\n",
      "{'name': 'Smartphone X', 'tag': 'smartphone'}\n",
      "{'name': 'Smartphone X', 'tag': '5G'}\n",
      "{'name': 'Smartphone X', 'tag': 'high-resolution camera'}\n",
      "{'name': 'Smartphone X', 'tag': 'water-resistant'}\n",
      "{'name': 'Wireless Earbuds', 'tag': 'earbuds'}\n",
      "{'name': 'Wireless Earbuds', 'tag': 'wireless'}\n",
      "{'name': 'Wireless Earbuds', 'tag': 'noise-cancelling'}\n",
      "{'name': 'Wireless Earbuds', 'tag': 'water-resistant'}\n",
      "{'name': 'Smart TV 4K', 'tag': 'TV'}\n",
      "{'name': 'Smart TV 4K', 'tag': '4K'}\n",
      "{'name': 'Smart TV 4K', 'tag': 'smart'}\n",
      "{'name': 'Smart TV 4K', 'tag': 'HDR'}\n",
      "{'name': 'Smart TV 4K', 'tag': 'voice control'}\n"
     ]
    }
   ],
   "source": [
    "unnest_query = f\"\"\"\n",
    "SELECT p.name, t AS tag\n",
    "FROM `{bucket.name}`.`{scope_name}`.`{collection_name_products}` p\n",
    "UNNEST p.tags t\n",
    "\"\"\"\n",
    "\n",
    "unnest_result = cluster.query(unnest_query)\n",
    "\n",
    "for row in unnest_result:\n",
    "    print(row)"
   ]
  },
  {
   "cell_type": "markdown",
   "id": "07d3df80-18df-4acc-8f75-180021fcb0a9",
   "metadata": {},
   "source": [
    "## Full-Text Search\n",
    "\n",
    "### Create An Full-Text Search Index"
   ]
  },
  {
   "cell_type": "code",
   "execution_count": 20,
   "id": "a7004e49-a045-48ad-a79d-f7705bd768b3",
   "metadata": {},
   "outputs": [
    {
     "name": "stdout",
     "output_type": "stream",
     "text": [
      "Full-text search index created successfully.\n"
     ]
    }
   ],
   "source": [
    "create_fts_index_query = f\"\"\"\n",
    "CREATE FULLTEXT INDEX idx_product_description \n",
    "ON `{bucket.name}`.`{scope_name}`.`{collection_name_products}`(description)\n",
    "WITH {{\n",
    "    \"default_analyzer\": \"standard\",\n",
    "    \"default_mapping\": {{\n",
    "        \"enabled\": false,\n",
    "        \"dynamic\": false\n",
    "    }},\n",
    "    \"type_field\": \"type\",\n",
    "    \"store_dynamic_fields\": false,\n",
    "    \"index_dynamic_fields\": false\n",
    "}}\n",
    "\"\"\"\n",
    "try:\n",
    "    cluster.query(create_fts_index_query)\n",
    "    print(\"Full-text search index created successfully.\")\n",
    "except Exception as e:\n",
    "    print(f\"Error creating full-text search index: {e}\")"
   ]
  },
  {
   "cell_type": "markdown",
   "id": "60212c0d-4501-4637-81ef-6db633314f00",
   "metadata": {},
   "source": [
    "### Execute Full-Text Search Query"
   ]
  },
  {
   "cell_type": "code",
   "execution_count": 22,
   "id": "5c103191-cfcc-4817-b062-69a9e9d3f8e2",
   "metadata": {},
   "outputs": [
    {
     "name": "stdout",
     "output_type": "stream",
     "text": [
      "{'description': 'A powerful smartphone with 5G capability and a high-resolution camera.', 'name': 'Smartphone X'}\n",
      "{'description': 'Lightweight and water-resistant wireless earbuds with excellent noise-cancelling capabilities.', 'name': 'Wireless Earbuds'}\n",
      "{'description': 'Lightweight and water-resistant wireless earbuds with excellent noise-cancelling capabilities.', 'name': 'Wireless Earbuds'}\n",
      "{'description': 'A powerful smartphone with 5G capability and a high-resolution camera.', 'name': 'Smartphone X'}\n",
      "{'description': 'A powerful and lightweight laptop with long battery life, perfect for professionals on the go.', 'name': 'Laptop Pro'}\n",
      "{'description': 'A powerful and lightweight laptop with long battery life, perfect for professionals on the go.', 'name': 'Laptop Pro'}\n"
     ]
    }
   ],
   "source": [
    "fts_query = f\"\"\"\n",
    "SELECT name, description\n",
    "FROM `{bucket.name}`.`{scope_name}`.`{collection_name_products}`\n",
    "WHERE SEARCH(description, \"powerful AND lightweight\")\n",
    "\"\"\"\n",
    "fts_result = cluster.query(fts_query)\n",
    "for row in fts_result:\n",
    "    print(row)"
   ]
  },
  {
   "cell_type": "markdown",
   "id": "1705d04d-a520-4158-b408-816a093df083",
   "metadata": {},
   "source": [
    "## Get The Top 3 Most Expensive Products For Each Type Using The Window Functions DENSE_RANK And ROW_NUMBER\n",
    "\n",
    "Note, we want more than three products if there are multiple products tied for third place. "
   ]
  },
  {
   "cell_type": "code",
   "execution_count": 23,
   "id": "23f3947d-c776-41f1-99c0-3152fb4e9d28",
   "metadata": {},
   "outputs": [
    {
     "name": "stdout",
     "output_type": "stream",
     "text": [
      "The top 3 most expensive products for each type:\n",
      "{'name': 'Jupyter A', 'price_rank': 1}\n",
      "{'name': 'Coffee Maker Deluxe', 'price': 157.28790000000004, 'price_rank': 1, 'type': 'Appliances'}\n",
      "{'name': 'Coffee Maker Deluxe', 'price': 142.98900000000003, 'price_rank': 2, 'type': 'Appliances'}\n",
      "{'name': 'Laptop Pro', 'price': 1299.99, 'price_rank': 1, 'type': 'Electronics'}\n",
      "{'name': 'Laptop Pro', 'price': 1299.99, 'price_rank': 1, 'type': 'Electronics'}\n",
      "{'name': 'Smart TV 4K', 'price': 799.99, 'price_rank': 2, 'type': 'Electronics'}\n",
      "{'name': 'Smart TV 4K', 'price': 799.99, 'price_rank': 2, 'type': 'Electronics'}\n"
     ]
    }
   ],
   "source": [
    "window_query = f\"\"\"\n",
    "WITH ranked_products AS (\n",
    "    SELECT name, type, price,\n",
    "           DENSE_RANK() OVER (PARTITION BY type ORDER BY price DESC) AS price_rank,\n",
    "           ROW_NUMBER() OVER (PARTITION BY type ORDER BY price DESC) AS row_num\n",
    "    FROM `{bucket.name}`.`{scope_name}`.`{collection_name_products}`\n",
    "),\n",
    "third_rank AS (\n",
    "    SELECT type, MAX(price_rank) AS max_rank\n",
    "    FROM ranked_products\n",
    "    WHERE row_num = 3\n",
    "    GROUP BY type\n",
    ")\n",
    "SELECT rp.name, rp.type, rp.price, rp.price_rank\n",
    "FROM ranked_products rp\n",
    "LEFT JOIN third_rank fr ON rp.type = fr.type\n",
    "WHERE rp.price_rank <= COALESCE(fr.max_rank, rp.price_rank)\n",
    "ORDER BY rp.type, rp.price_rank\n",
    "\"\"\"\n",
    "window_result = cluster.query(window_query)\n",
    "print(\"The top 3 most expensive products for each type:\")\n",
    "for row in window_result:\n",
    "    print(row)"
   ]
  },
  {
   "cell_type": "markdown",
   "id": "d93e274c-48a3-4b3e-8da5-ced57e333ab9",
   "metadata": {},
   "source": [
    "## Labeling Documents Using CASE Statements"
   ]
  },
  {
   "cell_type": "code",
   "execution_count": 25,
   "id": "57734531-a326-4da7-a59c-af51a95ad07a",
   "metadata": {},
   "outputs": [
    {
     "name": "stdout",
     "output_type": "stream",
     "text": [
      "{'name': 'Wireless Earbuds', 'price': 159.99, 'price_category': 'Budget'}\n",
      "{'name': 'Wireless Earbuds', 'price': 159.99, 'price_category': 'Budget'}\n",
      "{'name': 'Coffee Maker Deluxe', 'price': 157.28790000000004, 'price_category': 'Budget'}\n",
      "{'name': 'Coffee Maker Deluxe', 'price': 142.98900000000003, 'price_category': 'Budget'}\n",
      "{'name': 'Smart TV 4K', 'price': 799.99, 'price_category': 'Mid-range'}\n",
      "{'name': 'Smart TV 4K', 'price': 799.99, 'price_category': 'Mid-range'}\n",
      "{'name': 'Smartphone X', 'price': 699.99, 'price_category': 'Mid-range'}\n",
      "{'name': 'Smartphone X', 'price': 699.99, 'price_category': 'Mid-range'}\n",
      "{'name': 'Laptop Pro', 'price': 1299.99, 'price_category': 'Premium'}\n",
      "{'name': 'Laptop Pro', 'price': 1299.99, 'price_category': 'Premium'}\n",
      "{'name': 'Jupyter A', 'price_category': 'Premium'}\n"
     ]
    }
   ],
   "source": [
    "case_query = f\"\"\"\n",
    "SELECT name, price,\n",
    "       CASE \n",
    "           WHEN price < 500 THEN \"Budget\"\n",
    "           WHEN price >= 500 AND price < 1000 THEN \"Mid-range\"\n",
    "           ELSE \"Premium\"\n",
    "       END AS price_category\n",
    "FROM `{bucket.name}`.`{scope_name}`.`{collection_name_products}`\n",
    "ORDER BY CASE price_category\n",
    "           WHEN \"Budget\" THEN 1\n",
    "           WHEN \"Mid-range\" THEN 2\n",
    "           WHEN \"Premium\" THEN 3\n",
    "         END,\n",
    "         price DESC\n",
    "\"\"\"\n",
    "\n",
    "case_result = cluster.query(case_query)\n",
    "\n",
    "for row in case_result:\n",
    "    print(row)"
   ]
  }
 ],
 "metadata": {
  "kernelspec": {
   "display_name": "Python 3 (ipykernel)",
   "language": "python",
   "name": "python3"
  },
  "language_info": {
   "codemirror_mode": {
    "name": "ipython",
    "version": 3
   },
   "file_extension": ".py",
   "mimetype": "text/x-python",
   "name": "python",
   "nbconvert_exporter": "python",
   "pygments_lexer": "ipython3",
   "version": "3.11.6"
  }
 },
 "nbformat": 4,
 "nbformat_minor": 5
}
