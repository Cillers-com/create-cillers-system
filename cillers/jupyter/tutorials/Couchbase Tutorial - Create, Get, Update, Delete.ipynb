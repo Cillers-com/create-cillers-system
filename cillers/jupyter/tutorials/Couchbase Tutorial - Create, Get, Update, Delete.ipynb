{
 "cells": [
  {
   "cell_type": "markdown",
   "id": "aedff6b8-bc6c-4706-b91f-d87071eafaa2",
   "metadata": {},
   "source": [
    "# Couchbase Tutorial: Create, Get, Update, Delete\n",
    "\n",
    "## In this tutorial, we'll cover:\n",
    "* Installing the Couchbase Python SDK module\n",
    "* Connecting to a Couchbase Server\n",
    "* Creating documents with UUID keys and JSON values\n",
    "* Fetching a document by its key\n",
    "* Updating a document\n",
    "* Deleting documents\n",
    "* Listing documents in a collection, using SQL++ query"
   ]
  },
  {
   "cell_type": "markdown",
   "id": "2d46a413-4871-43e5-9927-4099987f9db6",
   "metadata": {},
   "source": [
    "## Install Packages "
   ]
  },
  {
   "cell_type": "code",
   "execution_count": 1,
   "id": "650e9784-f7de-4b8a-8f9a-392c9c774ce2",
   "metadata": {},
   "outputs": [
    {
     "name": "stdout",
     "output_type": "stream",
     "text": [
      "\u001b[33mWARNING: The directory '/home/jovyan/.cache/pip' or its parent directory is not owned or is not writable by the current user. The cache has been disabled. Check the permissions and owner of that directory. If executing pip with sudo, you should use sudo's -H flag.\u001b[0m\u001b[33m\n",
      "\u001b[0mNote: you may need to restart the kernel to use updated packages.\n"
     ]
    }
   ],
   "source": [
    "%pip install --upgrade --quiet couchbase"
   ]
  },
  {
   "cell_type": "markdown",
   "id": "e813b86f-d08f-4f8e-9a6b-e1bfbdcd5980",
   "metadata": {},
   "source": [
    "## Set Environment Variables"
   ]
  },
  {
   "cell_type": "code",
   "execution_count": 2,
   "id": "4ae8389e-df99-4652-82d6-2524ab4e2ef5",
   "metadata": {},
   "outputs": [],
   "source": [
    "import env\n",
    "env.load()"
   ]
  },
  {
   "cell_type": "markdown",
   "id": "9c61d150-6672-4b5a-a974-ca67307e6d1a",
   "metadata": {},
   "source": [
    "## Module Import And Client Setup"
   ]
  },
  {
   "cell_type": "code",
   "execution_count": 3,
   "id": "d6ea11de-a40e-4f13-9965-c4f9b6096ade",
   "metadata": {},
   "outputs": [],
   "source": [
    "import os\n",
    "import uuid\n",
    "from datetime import timedelta\n",
    "import couchbase.subdocument as SD\n",
    "from couchbase.auth import PasswordAuthenticator\n",
    "from couchbase.cluster import Cluster\n",
    "from couchbase.options import (ClusterOptions, ClusterTimeoutOptions, QueryOptions, MutateInOptions)\n",
    "from couchbase.exceptions import ScopeAlreadyExistsException, CollectionAlreadyExistsException\n",
    "from couchbase.management.collections import CreateCollectionSettings\n",
    "\n",
    "COUCHBASE_USERNAME = os.environ['COUCHBASE_USERNAME']\n",
    "COUCHBASE_PASSWORD = os.environ['COUCHBASE_PASSWORD']\n",
    "COUCHBASE_BUCKET_NAME = os.environ['COUCHBASE_BUCKET_NAME']\n",
    "COUCHBASE_URL = os.environ['COUCHBASE_URL']\n",
    "\n",
    "auth = PasswordAuthenticator(\n",
    "    COUCHBASE_USERNAME,\n",
    "    COUCHBASE_PASSWORD\n",
    ")\n",
    "cluster = Cluster(COUCHBASE_URL, ClusterOptions(auth))\n",
    "cluster.wait_until_ready(timedelta(seconds=5))\n",
    "bucket = cluster.bucket(COUCHBASE_BUCKET_NAME)\n",
    "\n",
    "scope_name = \"cillers_play\"\n",
    "collection_name_products = \"products\""
   ]
  },
  {
   "cell_type": "markdown",
   "id": "9ecbdb7c-7c73-4e56-9287-bad58c20bd91",
   "metadata": {},
   "source": [
    "## Prepare The Data Structure"
   ]
  },
  {
   "cell_type": "code",
   "execution_count": 4,
   "id": "e8709893-1295-4855-b496-f0231f8beffa",
   "metadata": {},
   "outputs": [
    {
     "name": "stdout",
     "output_type": "stream",
     "text": [
      "Scope 'cillers_play' created successfully.\n",
      "Collection 'products' created successfully in scope 'cillers_play'.\n"
     ]
    }
   ],
   "source": [
    "import data_structure_couchbase\n",
    "\n",
    "data_structure_spec = {\n",
    "    scope_name: [\n",
    "        collection_name_products\n",
    "    ]\n",
    "}\n",
    "\n",
    "data_structure_couchbase.create(bucket, data_structure_spec)"
   ]
  },
  {
   "cell_type": "markdown",
   "id": "631a9baf-cae4-4507-a3ff-ffbdfd09a10a",
   "metadata": {},
   "source": [
    "## Create A Document\n",
    "\n",
    "There are two different methods for creating a document in Couchbase: insert and upsert. Insert fails if there already exists a document with the same key. Upsert creates a document if no document exists with the same key and completely replaces any preexisting document with the same key. Here we use insert because the key is random with practically zero chance of colliding with an existing key. But, often keys are based on emails or other non-random data, because that enables uniqueness constraint and fast document fetching through direct key access instead of having to rely on SQL++ queries. "
   ]
  },
  {
   "cell_type": "code",
   "execution_count": 5,
   "id": "b08e6979-128b-41a1-aacc-7e8355516629",
   "metadata": {},
   "outputs": [
    {
     "name": "stdout",
     "output_type": "stream",
     "text": [
      "MutationResult:result:{value={'cas': 1731961307449655296, 'key': 'bc74e526-a5ea-11ef-bceb-0242c0a87517', 'mutation_token': <pycbc_core.mutation_token object at 0xffff99332490>}}\n"
     ]
    }
   ],
   "source": [
    "key = str(uuid.uuid1())\n",
    "collection = bucket.scope(scope_name).collection(collection_name_products)\n",
    "result = collection.insert(key, {\"name\": \"Jupyter A\"})\n",
    "print(result)"
   ]
  },
  {
   "cell_type": "markdown",
   "id": "cb34b3c2-9f20-4cba-8115-e172b695b4fd",
   "metadata": {},
   "source": [
    "## Update A Document\n",
    "\n",
    "There are three different methods to update a document in Couchbase: a) replacing the entire document using `replace`, which will fail if no document exists with the specified key b) replacing the document using `upsert`, which will create a new document if no document existed with the specified key, and c) updating specific values in the document using `mutate_in`. "
   ]
  },
  {
   "cell_type": "code",
   "execution_count": 6,
   "id": "f82606fd-ed5e-4653-99d2-67a0bfad4779",
   "metadata": {},
   "outputs": [
    {
     "name": "stdout",
     "output_type": "stream",
     "text": [
      "Document created: MutationResult:result:{value={'cas': 1731961311531237376, 'key': 'bee3890c-a5ea-11ef-bceb-0242c0a87517', 'mutation_token': <pycbc_core.mutation_token object at 0xffff9753de30>}}\n",
      "\n",
      "Document replaced: MutationResult:result:{value={'cas': 1731961311532613632, 'key': 'bee3890c-a5ea-11ef-bceb-0242c0a87517', 'mutation_token': <pycbc_core.mutation_token object at 0xffff9753ded0>}}\n",
      "\n",
      "Document updated: MutateInResult:result:{value={'cas': 1731961311534317568, 'flags': None, 'key': 'bee3890c-a5ea-11ef-bceb-0242c0a87517', 'mutation_token': <pycbc_core.mutation_token object at 0xffff9753df70>, 'value': [{'opcode': 200, 'status': 0, 'path': 'color', 'original_index': 0}, {'opcode': 201, 'status': 0, 'path': 'updated', 'original_index': 1}, {'opcode': 203, 'status': 0, 'path': 'tags', 'original_index': 2}]}}\n",
      "\n",
      "Document modified and upserted: MutationResult:result:{value={'cas': 1731961311535366144, 'key': 'bee3890c-a5ea-11ef-bceb-0242c0a87517', 'mutation_token': <pycbc_core.mutation_token object at 0xffff9753dfb0>}}\n",
      "\n",
      "Final document: {'name': 'Jupyter B', 'type': 'notebook', 'tags': ['tag1', 'modified'], 'color': 'blue', 'version': 2}\n",
      "\n"
     ]
    }
   ],
   "source": [
    "# First, let's add a document to modify\n",
    "key = str(uuid.uuid1())\n",
    "collection = bucket.scope(scope_name).collection(collection_name_products)\n",
    "result = collection.upsert(key, {\"name\": \"Jupyter A\", \"type\": \"notebook\"})\n",
    "print(f\"Document created: {result}\\n\")\n",
    "\n",
    "# Now, let's modify the document using replace() - This replaces the entire document\n",
    "try:\n",
    "    result = collection.replace(key, {\"name\": \"Jupyter B\", \"type\": \"notebook\", \"updated\": True, \"tags\":[\"tag1\"]})\n",
    "    print(f\"Document replaced: {result}\\n\")\n",
    "except Exception as e:\n",
    "    print(f\"Error replacing document: {e}\\n\")\n",
    "\n",
    "# Now, let's modify the document using mutate_in() - This updates specific fields in the document\n",
    "try:\n",
    "    result = collection.mutate_in(key, [\n",
    "        SD.upsert(\"color\", \"blue\"),\n",
    "        SD.remove(\"updated\"),\n",
    "        SD.array_append(\"tags\", \"modified\")\n",
    "    ])\n",
    "    print(f\"Document updated: {result}\\n\")\n",
    "except Exception as e:\n",
    "    print(f\"Error updating document: {e}\\n\")\n",
    "\n",
    "# 3. Using get() and replace() - This allows you to modify the document based on its current state\n",
    "try:\n",
    "    doc = collection.get(key)\n",
    "    content = doc.value\n",
    "    content[\"version\"] = 2\n",
    "    result = collection.replace(key, content)\n",
    "    print(f\"Document modified and upserted: {result}\\n\")\n",
    "except Exception as e:\n",
    "    print(f\"Error modifying and upserting document: {e}\\n\")\n",
    "\n",
    "# Print the final document\n",
    "try:\n",
    "    doc = collection.get(key)\n",
    "    print(f\"Final document: {doc.value}\\n\")\n",
    "except Exception as e:\n",
    "    print(f\"Error retrieving document: {e}\\n\")"
   ]
  },
  {
   "cell_type": "markdown",
   "id": "0a6fbdc7-4fc2-433e-a320-237bd3988151",
   "metadata": {},
   "source": [
    "## Get The Created Document"
   ]
  },
  {
   "cell_type": "code",
   "execution_count": 7,
   "id": "af8acb31-67d6-4100-96b8-d2d65513ca65",
   "metadata": {},
   "outputs": [
    {
     "name": "stdout",
     "output_type": "stream",
     "text": [
      "{'name': 'Jupyter B', 'type': 'notebook', 'tags': ['tag1', 'modified'], 'color': 'blue', 'version': 2}\n"
     ]
    }
   ],
   "source": [
    "get_result = collection.get(key)\n",
    "print(get_result.content_as[dict])"
   ]
  },
  {
   "cell_type": "markdown",
   "id": "7b1b9c93-6202-46cc-ba12-b61129b58c7b",
   "metadata": {},
   "source": [
    "## Delete The Created Document"
   ]
  },
  {
   "cell_type": "code",
   "execution_count": 8,
   "id": "667c8bfa-82c1-4fb7-a14a-9cab0588dbf4",
   "metadata": {},
   "outputs": [
    {
     "name": "stdout",
     "output_type": "stream",
     "text": [
      "Remove Result: MutationResult:result:{value={'cas': 1731961346167144448, 'key': 'bee3890c-a5ea-11ef-bceb-0242c0a87517', 'mutation_token': <pycbc_core.mutation_token object at 0xffff9753de70>}}\n"
     ]
    }
   ],
   "source": [
    "remove_result = collection.remove(key)\n",
    "print(\"Remove Result:\", remove_result)"
   ]
  },
  {
   "cell_type": "code",
   "execution_count": null,
   "id": "0b267d7c-3e75-4ca8-bc1e-38bb08150c84",
   "metadata": {},
   "outputs": [],
   "source": []
  }
 ],
 "metadata": {
  "kernelspec": {
   "display_name": "Python 3 (ipykernel)",
   "language": "python",
   "name": "python3"
  },
  "language_info": {
   "codemirror_mode": {
    "name": "ipython",
    "version": 3
   },
   "file_extension": ".py",
   "mimetype": "text/x-python",
   "name": "python",
   "nbconvert_exporter": "python",
   "pygments_lexer": "ipython3",
   "version": "3.11.6"
  }
 },
 "nbformat": 4,
 "nbformat_minor": 5
}
