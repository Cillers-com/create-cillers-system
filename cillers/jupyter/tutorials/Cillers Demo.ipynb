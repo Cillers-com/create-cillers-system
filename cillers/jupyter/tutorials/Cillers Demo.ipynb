{
 "cells": [
  {
   "cell_type": "code",
   "execution_count": 1,
   "id": "f85e3979-efdb-479e-98cd-c94a9170dffa",
   "metadata": {},
   "outputs": [
    {
     "name": "stdout",
     "output_type": "stream",
     "text": [
      "Welcome to Cillers!\n"
     ]
    }
   ],
   "source": [
    "print(\"Welcome to Cillers!\")"
   ]
  },
  {
   "cell_type": "code",
   "execution_count": null,
   "id": "d406065b-2a98-4f00-9beb-250e827a25f9",
   "metadata": {},
   "outputs": [],
   "source": []
  }
 ],
 "metadata": {
  "kernelspec": {
   "display_name": "Python 3 (ipykernel)",
   "language": "python",
   "name": "python3"
  },
  "language_info": {
   "codemirror_mode": {
    "name": "ipython",
    "version": 3
   },
   "file_extension": ".py",
   "mimetype": "text/x-python",
   "name": "python",
   "nbconvert_exporter": "python",
   "pygments_lexer": "ipython3",
   "version": "3.11.6"
  }
 },
 "nbformat": 4,
 "nbformat_minor": 5
}
