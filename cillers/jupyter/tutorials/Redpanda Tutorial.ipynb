{
 "cells": [
  {
   "cell_type": "markdown",
   "id": "77114c2f-420e-4e81-9ac6-1bbb5271694d",
   "metadata": {},
   "source": [
    "# Redpanda Tutorial: Producing and Consuming Events\n",
    "\n",
    "## In this tutorial, we'll cover:\n",
    "* Installing the Confluent Kafka SDK module\n",
    "* Connecting to a Redpanda Server\n",
    "* Producing Events with UUID Keys and JSON Values\n",
    "* Consuming Events from the Same Topic"
   ]
  },
  {
   "cell_type": "markdown",
   "id": "28bfe389-9815-43b9-8ef4-b4a38948f04e",
   "metadata": {},
   "source": [
    "## Install Packages"
   ]
  },
  {
   "cell_type": "code",
   "execution_count": 3,
   "id": "45e454c7-8c91-4106-8dd1-40837b6cd5eb",
   "metadata": {},
   "outputs": [
    {
     "name": "stdout",
     "output_type": "stream",
     "text": [
      "\u001b[33mWARNING: The directory '/home/jovyan/.cache/pip' or its parent directory is not owned or is not writable by the current user. The cache has been disabled. Check the permissions and owner of that directory. If executing pip with sudo, you should use sudo's -H flag.\u001b[0m\u001b[33m\n",
      "\u001b[0mNote: you may need to restart the kernel to use updated packages.\n"
     ]
    }
   ],
   "source": [
    "%pip install --upgrade --quiet confluent-kafka"
   ]
  },
  {
   "cell_type": "markdown",
   "id": "ad8989b5-cf34-4fd1-893f-e38d4ff88ebd",
   "metadata": {},
   "source": [
    "## Set Environment Variables"
   ]
  },
  {
   "cell_type": "code",
   "execution_count": 4,
   "id": "91aa5de6-c232-4189-b885-59e26dea963e",
   "metadata": {},
   "outputs": [],
   "source": [
    "import env\n",
    "env.load()"
   ]
  },
  {
   "cell_type": "markdown",
   "id": "c62ca42d-168b-4d79-a8f5-4fa2c33ccd31",
   "metadata": {},
   "source": [
    "## Module Import And Client Setup"
   ]
  },
  {
   "cell_type": "code",
   "execution_count": 5,
   "id": "a45cd921-3c89-49af-9a70-699b5b60abe1",
   "metadata": {},
   "outputs": [],
   "source": [
    "import os\n",
    "import uuid\n",
    "import json\n",
    "from confluent_kafka import Producer, Consumer, KafkaError\n",
    "\n",
    "REDPANDA_BOOTSTRAP_SERVERS = os.environ['REDPANDA_BOOTSTRAP_SERVERS']\n",
    "\n",
    "topic_name_products = 'cillers_play_products'"
   ]
  },
  {
   "cell_type": "markdown",
   "id": "14f2dab0-ef82-491c-ae22-1dcb2d9d4edb",
   "metadata": {},
   "source": [
    "## Produce Events"
   ]
  },
  {
   "cell_type": "code",
   "execution_count": 6,
   "id": "ddcd6f24-629b-48d8-ba7d-235c7279ea41",
   "metadata": {},
   "outputs": [
    {
     "name": "stdout",
     "output_type": "stream",
     "text": [
      "Message delivered to cillers_play_products [0] at offset 3\n",
      "Message delivered to cillers_play_products [0] at offset 4\n",
      "Message delivered to cillers_play_products [0] at offset 5\n"
     ]
    }
   ],
   "source": [
    "producer_conf = {\n",
    "    'bootstrap.servers': REDPANDA_BOOTSTRAP_SERVERS\n",
    "}\n",
    "\n",
    "producer = Producer(producer_conf)\n",
    "\n",
    "def delivery_callback(err, msg):\n",
    "    if err:\n",
    "        print(f'Error: Message failed delivery: {err}')\n",
    "    else:\n",
    "        print(f'Message delivered to {msg.topic()} [{msg.partition()}] at offset {msg.offset()}')\n",
    "\n",
    "# Produce 3 sample events\n",
    "for i in range(3):\n",
    "    # Generate a UUID as key\n",
    "    key = str(uuid.uuid4())\n",
    "    \n",
    "    # Create a JSON object with the structure {\"name\": name}\n",
    "    name = f'Product {i}'\n",
    "    value = json.dumps({\"name\": name})\n",
    "    \n",
    "    # Produce the message\n",
    "    producer.produce(topic_name_products, key=key.encode('utf-8'), value=value.encode('utf-8'), callback=delivery_callback)\n",
    "    producer.flush()  # Ensure all messages are sent"
   ]
  },
  {
   "cell_type": "markdown",
   "id": "32903e8f-1f92-4549-b574-b43286235191",
   "metadata": {},
   "source": [
    "## Consume Events\n",
    "\n",
    "We'll consume messages in a loop. In a real-world scenario, you'd likely run this in a separate thread or process."
   ]
  },
  {
   "cell_type": "code",
   "execution_count": 7,
   "id": "b4fdcb6a-9d9e-4d3b-b2d8-2b8624615518",
   "metadata": {},
   "outputs": [
    {
     "name": "stdout",
     "output_type": "stream",
     "text": [
      "Received message: {\"name\": \"Product 0\"} at offset 3\n",
      "Received message: {\"name\": \"Product 1\"} at offset 4\n",
      "Received message: {\"name\": \"Product 2\"} at offset 5\n",
      "Aborted by user\n"
     ]
    }
   ],
   "source": [
    "consumer_conf = {\n",
    "    'bootstrap.servers': REDPANDA_BOOTSTRAP_SERVERS,\n",
    "    'group.id': 'my_consumer_group',\n",
    "    'auto.offset.reset': 'earliest'\n",
    "}\n",
    "\n",
    "consumer = Consumer(consumer_conf)\n",
    "\n",
    "consumer.subscribe([topic_name_products])\n",
    "\n",
    "try:\n",
    "    while True:\n",
    "        msg = consumer.poll(1.0)  # Poll for messages with a timeout of 1 second\n",
    "\n",
    "        if msg is None:\n",
    "            continue\n",
    "        if msg.error():\n",
    "            if msg.error().code() == KafkaError._PARTITION_EOF:\n",
    "                # End of partition event\n",
    "                print(f'Reached end of partition at offset {msg.offset()}')\n",
    "            else:\n",
    "                print(f'Error: {msg.error()}')\n",
    "        else:\n",
    "            print(f'Received message: {msg.value().decode(\"utf-8\")} at offset {msg.offset()}')\n",
    "except KeyboardInterrupt:\n",
    "    print('Aborted by user')\n",
    "finally:\n",
    "    # Close down consumer to commit final offsets.\n",
    "    consumer.close()\n"
   ]
  }
 ],
 "metadata": {
  "kernelspec": {
   "display_name": "Python 3 (ipykernel)",
   "language": "python",
   "name": "python3"
  },
  "language_info": {
   "codemirror_mode": {
    "name": "ipython",
    "version": 3
   },
   "file_extension": ".py",
   "mimetype": "text/x-python",
   "name": "python",
   "nbconvert_exporter": "python",
   "pygments_lexer": "ipython3",
   "version": "3.11.6"
  }
 },
 "nbformat": 4,
 "nbformat_minor": 5
}
