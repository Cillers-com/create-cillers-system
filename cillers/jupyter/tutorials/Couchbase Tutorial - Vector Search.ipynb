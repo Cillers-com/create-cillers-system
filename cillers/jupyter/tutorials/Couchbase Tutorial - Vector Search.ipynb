{
 "cells": [
  {
   "cell_type": "markdown",
   "id": "aedff6b8-bc6c-4706-b91f-d87071eafaa2",
   "metadata": {},
   "source": [
    "# UNDER CONSTRUCTION: Couchbase Tutorial: Vector Search With Google AI\n",
    "\n",
    "## In this tutorial, we'll cover:\n",
    "* Installing required packages\n",
    "* Importing necessary libraries\n",
    "* Configuring Couchbase connection and Google Gemini client\n",
    "* Creating a function to generate embeddings\n",
    "* Inserting sample documents with embeddings\n",
    "* Creating a vector search index (note: this step is typically done through the Couchbase UI or REST API)\n",
    "* Performing a vector search\n",
    "* Displaying search results\n",
    "* Cleaning up (optional)\n",
    "\n",
    "To use this tutorial:\n",
    "* Replace 'YOUR_GEMINI_API_KEY' with your actual Google Gemini API key."
   ]
  },
  {
   "cell_type": "markdown",
   "id": "f6d2aae0-7dc7-4191-af4e-807250649922",
   "metadata": {},
   "source": [
    "## Install Packages"
   ]
  },
  {
   "cell_type": "code",
   "execution_count": 1,
   "id": "7ff6b2c0-58c8-4faa-900c-a23158d53be8",
   "metadata": {},
   "outputs": [
    {
     "name": "stdout",
     "output_type": "stream",
     "text": [
      "\u001b[33mWARNING: The directory '/home/jovyan/.cache/pip' or its parent directory is not owned or is not writable by the current user. The cache has been disabled. Check the permissions and owner of that directory. If executing pip with sudo, you should use sudo's -H flag.\u001b[0m\u001b[33m\n",
      "\u001b[0mNote: you may need to restart the kernel to use updated packages.\n"
     ]
    }
   ],
   "source": [
    "%pip install --upgrade --quiet couchbase numpy langchain-google-genai"
   ]
  },
  {
   "cell_type": "markdown",
   "id": "e813b86f-d08f-4f8e-9a6b-e1bfbdcd5980",
   "metadata": {},
   "source": [
    "## Set Environment Variables"
   ]
  },
  {
   "cell_type": "code",
   "execution_count": 2,
   "id": "87572d95-4f24-4d1c-82f8-c1b63d79224c",
   "metadata": {},
   "outputs": [],
   "source": [
    "import env\n",
    "env.load()"
   ]
  },
  {
   "cell_type": "markdown",
   "id": "9c61d150-6672-4b5a-a974-ca67307e6d1a",
   "metadata": {},
   "source": [
    "## Module Import And Client Setup"
   ]
  },
  {
   "cell_type": "code",
   "execution_count": 3,
   "id": "d6ea11de-a40e-4f13-9965-c4f9b6096ade",
   "metadata": {},
   "outputs": [
    {
     "ename": "ModuleNotFoundError",
     "evalue": "No module named 'langchain_couchbase'",
     "output_type": "error",
     "traceback": [
      "\u001b[0;31m---------------------------------------------------------------------------\u001b[0m",
      "\u001b[0;31mModuleNotFoundError\u001b[0m                       Traceback (most recent call last)",
      "Cell \u001b[0;32mIn[3], line 14\u001b[0m\n\u001b[1;32m     12\u001b[0m \u001b[38;5;28;01mfrom\u001b[39;00m \u001b[38;5;21;01mcouchbase\u001b[39;00m\u001b[38;5;21;01m.\u001b[39;00m\u001b[38;5;21;01mvector_search\u001b[39;00m \u001b[38;5;28;01mimport\u001b[39;00m VectorQuery, VectorSearch\n\u001b[1;32m     13\u001b[0m \u001b[38;5;28;01mfrom\u001b[39;00m \u001b[38;5;21;01mlangchain_google_genai\u001b[39;00m \u001b[38;5;28;01mimport\u001b[39;00m GoogleGenerativeAIEmbeddings\n\u001b[0;32m---> 14\u001b[0m \u001b[38;5;28;01mfrom\u001b[39;00m \u001b[38;5;21;01mlangchain_couchbase\u001b[39;00m \u001b[38;5;28;01mimport\u001b[39;00m CouchbaseVectorStore\n\u001b[1;32m     16\u001b[0m COUCHBASE_USERNAME \u001b[38;5;241m=\u001b[39m os\u001b[38;5;241m.\u001b[39menviron[\u001b[38;5;124m'\u001b[39m\u001b[38;5;124mCOUCHBASE_USERNAME\u001b[39m\u001b[38;5;124m'\u001b[39m]\n\u001b[1;32m     17\u001b[0m COUCHBASE_PASSWORD \u001b[38;5;241m=\u001b[39m os\u001b[38;5;241m.\u001b[39menviron[\u001b[38;5;124m'\u001b[39m\u001b[38;5;124mCOUCHBASE_PASSWORD\u001b[39m\u001b[38;5;124m'\u001b[39m]\n",
      "\u001b[0;31mModuleNotFoundError\u001b[0m: No module named 'langchain_couchbase'"
     ]
    }
   ],
   "source": [
    "import os\n",
    "import uuid\n",
    "import json\n",
    "from datetime import timedelta\n",
    "import couchbase.subdocument as SD\n",
    "from couchbase.auth import PasswordAuthenticator\n",
    "from couchbase.cluster import Cluster, ClusterOptions\n",
    "from couchbase.options import (ClusterOptions, ClusterTimeoutOptions, QueryOptions, MutateInOptions)\n",
    "from couchbase.exceptions import ScopeAlreadyExistsException, CollectionAlreadyExistsException\n",
    "from couchbase.management.collections import CreateCollectionSettings\n",
    "from couchbase.search import SearchQuery, QueryStringQuery\n",
    "from couchbase.vector_search import VectorQuery, VectorSearch\n",
    "from langchain_google_genai import GoogleGenerativeAIEmbeddings\n",
    "from langchain_couchbase import CouchbaseVectorStore\n",
    "\n",
    "COUCHBASE_USERNAME = os.environ['COUCHBASE_USERNAME']\n",
    "COUCHBASE_PASSWORD = os.environ['COUCHBASE_PASSWORD']\n",
    "COUCHBASE_BUCKET_NAME = os.environ['COUCHBASE_BUCKET_NAME']\n",
    "COUCHBASE_URL = os.environ['COUCHBASE_URL']\n",
    "\n",
    "auth = PasswordAuthenticator(\n",
    "    COUCHBASE_USERNAME,\n",
    "    COUCHBASE_PASSWORD\n",
    ")\n",
    "cluster = Cluster(COUCHBASE_URL, ClusterOptions(auth))\n",
    "cluster.wait_until_ready(timedelta(seconds=5))\n",
    "bucket = cluster.bucket(COUCHBASE_BUCKET_NAME)\n",
    "\n",
    "scope_name = \"cillers_play\"\n",
    "collection_name_products = \"products\"\n",
    "\n",
    "create_index_query = f\"\"\"\n",
    "CREATE SEARCH INDEX IF NOT EXISTS product_vector_index\n",
    "ON `{bucket.name}`.`{scope_name}`.`{collection_name_products}`(\n",
    "    embedding AS {{\"type\": \"vector\", \"dimensions\": 768}}\n",
    ") USING FTS WITH {{\"similarity\": \"cosine\"}}\n",
    "\"\"\"\n",
    "\n",
    "try:\n",
    "    cluster.query(create_index_query)\n",
    "    print(\"Vector search index created successfully (or already exists).\")\n",
    "except Exception as e:\n",
    "    print(f\"Error creating index: {e}\")\n",
    "\n",
    "embeddings = GoogleGenerativeAIEmbeddings(model=\"models/embedding-001\")\n",
    "vector_store = CouchbaseVectorStore(\n",
    "    cluster, \n",
    "    COUCHBASE_BUCKET_NAME, \n",
    "    scope_name, \n",
    "    collection_name_products, \n",
    "    embeddings, \n",
    "    \"cillers_play_vector_search_test_index\"\n",
    ")\n",
    "\n",
    "embedding_test = embeddings.embed_query(\"Hello world\")\n",
    "print(len(embedding_test))\n",
    "\n"
   ]
  },
  {
   "cell_type": "markdown",
   "id": "9ecbdb7c-7c73-4e56-9287-bad58c20bd91",
   "metadata": {},
   "source": [
    "## Prepare The Data Structure"
   ]
  },
  {
   "cell_type": "code",
   "execution_count": null,
   "id": "e8709893-1295-4855-b496-f0231f8beffa",
   "metadata": {},
   "outputs": [],
   "source": [
    "import data_structure_couchbase\n",
    "\n",
    "data_structure_spec = {\n",
    "    scope_name: [\n",
    "        collection_name_products\n",
    "    ]\n",
    "}\n",
    "\n",
    "data_structure_couchbase.create(bucket, data_structure_spec)"
   ]
  },
  {
   "cell_type": "markdown",
   "id": "63fe74b6-8240-45d3-b524-c4ec207d0fc0",
   "metadata": {},
   "source": [
    "## Load Documents To Search For"
   ]
  },
  {
   "cell_type": "code",
   "execution_count": 9,
   "id": "5eee9cdd-d2c6-4f90-baca-ae38bc5aa621",
   "metadata": {},
   "outputs": [
    {
     "name": "stdout",
     "output_type": "stream",
     "text": [
      "Inserted products:\n",
      "{\n",
      "  \"products\": {\n",
      "    \"description\": \"A powerful smartphone with 5G capability and a high-resolution camera.\",\n",
      "    \"details\": {\n",
      "      \"color\": \"Midnight Blue\",\n",
      "      \"screen_size\": \"6.1 inches\",\n",
      "      \"storage\": \"128GB\"\n",
      "    },\n",
      "    \"name\": \"Smartphone X\",\n",
      "    \"price\": 699.99,\n",
      "    \"tags\": [\n",
      "      \"smartphone\",\n",
      "      \"5G\",\n",
      "      \"high-resolution camera\",\n",
      "      \"water-resistant\"\n",
      "    ],\n",
      "    \"type\": \"Electronics\"\n",
      "  }\n",
      "}\n",
      "{\n",
      "  \"products\": {\n",
      "    \"description\": \"A powerful and lightweight laptop with long battery life, perfect for professionals on the go.\",\n",
      "    \"details\": {\n",
      "      \"color\": \"Silver\",\n",
      "      \"processor\": \"Intel i7\",\n",
      "      \"ram\": \"16GB\"\n",
      "    },\n",
      "    \"name\": \"Laptop Pro\",\n",
      "    \"price\": 1299.99,\n",
      "    \"tags\": [\n",
      "      \"laptop\",\n",
      "      \"high-performance\",\n",
      "      \"lightweight\",\n",
      "      \"long battery life\"\n",
      "    ],\n",
      "    \"type\": \"Electronics\"\n",
      "  }\n",
      "}\n",
      "{\n",
      "  \"products\": {\n",
      "    \"description\": \"A smart 4K TV with HDR and voice control for an immersive viewing experience.\",\n",
      "    \"details\": {\n",
      "      \"color\": \"Black\",\n",
      "      \"resolution\": \"4K\",\n",
      "      \"screen_size\": \"55 inches\"\n",
      "    },\n",
      "    \"name\": \"Smart TV 4K\",\n",
      "    \"price\": 799.99,\n",
      "    \"tags\": [\n",
      "      \"TV\",\n",
      "      \"4K\",\n",
      "      \"smart\",\n",
      "      \"HDR\",\n",
      "      \"voice control\"\n",
      "    ],\n",
      "    \"type\": \"Electronics\"\n",
      "  }\n",
      "}\n",
      "{\n",
      "  \"products\": {\n",
      "    \"description\": \"Lightweight and water-resistant wireless earbuds with excellent noise-cancelling capabilities.\",\n",
      "    \"details\": {\n",
      "      \"battery_life\": \"24 hours\",\n",
      "      \"color\": \"White\",\n",
      "      \"connectivity\": \"Bluetooth 5.0\"\n",
      "    },\n",
      "    \"name\": \"Wireless Earbuds\",\n",
      "    \"price\": 159.99,\n",
      "    \"tags\": [\n",
      "      \"earbuds\",\n",
      "      \"wireless\",\n",
      "      \"noise-cancelling\",\n",
      "      \"water-resistant\"\n",
      "    ],\n",
      "    \"type\": \"Electronics\"\n",
      "  }\n",
      "}\n",
      "{\n",
      "  \"products\": {\n",
      "    \"description\": \"A programmable coffee maker with a thermal carafe to keep your coffee hot for hours.\",\n",
      "    \"details\": {\n",
      "      \"capacity\": \"12 cups\",\n",
      "      \"color\": \"Stainless Steel\",\n",
      "      \"features\": \"Programmable\"\n",
      "    },\n",
      "    \"name\": \"Coffee Maker Deluxe\",\n",
      "    \"price\": 129.99,\n",
      "    \"tags\": [\n",
      "      \"coffee maker\",\n",
      "      \"programmable\",\n",
      "      \"thermal carafe\"\n",
      "    ],\n",
      "    \"type\": \"Appliances\"\n",
      "  }\n",
      "}\n"
     ]
    }
   ],
   "source": [
    "insert_products_query = f\"\"\"\n",
    "INSERT INTO `{bucket.name}`.`{scope_name}`.`{collection_name_products}` (KEY, VALUE)\n",
    "VALUES \n",
    "    (\"product_\" || UUID(), {{\n",
    "        \"name\": \"Smartphone X\", \n",
    "        \"type\": \"Electronics\", \n",
    "        \"price\": 699.99, \n",
    "        \"details\": {{\n",
    "            \"color\": \"Midnight Blue\",\n",
    "            \"storage\": \"128GB\",\n",
    "            \"screen_size\": \"6.1 inches\"\n",
    "        }},\n",
    "        \"tags\": [\"smartphone\", \"5G\", \"high-resolution camera\", \"water-resistant\"],\n",
    "        \"description\": \"A powerful smartphone with 5G capability and a high-resolution camera.\"\n",
    "    }}),\n",
    "    (\"product_\" || UUID(), {{\n",
    "        \"name\": \"Laptop Pro\", \n",
    "        \"type\": \"Electronics\", \n",
    "        \"price\": 1299.99, \n",
    "        \"details\": {{\n",
    "            \"color\": \"Silver\",\n",
    "            \"processor\": \"Intel i7\",\n",
    "            \"ram\": \"16GB\"\n",
    "        }},\n",
    "        \"tags\": [\"laptop\", \"high-performance\", \"lightweight\", \"long battery life\"],\n",
    "        \"description\": \"A powerful and lightweight laptop with long battery life, perfect for professionals on the go.\"\n",
    "    }}),\n",
    "    (\"product_\" || UUID(), {{\n",
    "        \"name\": \"Smart TV 4K\", \n",
    "        \"type\": \"Electronics\", \n",
    "        \"price\": 799.99, \n",
    "        \"details\": {{\n",
    "            \"color\": \"Black\",\n",
    "            \"screen_size\": \"55 inches\",\n",
    "            \"resolution\": \"4K\"\n",
    "        }},\n",
    "        \"tags\": [\"TV\", \"4K\", \"smart\", \"HDR\", \"voice control\"],\n",
    "        \"description\": \"A smart 4K TV with HDR and voice control for an immersive viewing experience.\"\n",
    "    }}),\n",
    "    (\"product_\" || UUID(), {{\n",
    "        \"name\": \"Wireless Earbuds\", \n",
    "        \"type\": \"Electronics\", \n",
    "        \"price\": 159.99, \n",
    "        \"details\": {{\n",
    "            \"color\": \"White\",\n",
    "            \"battery_life\": \"24 hours\",\n",
    "            \"connectivity\": \"Bluetooth 5.0\"\n",
    "        }},\n",
    "        \"tags\": [\"earbuds\", \"wireless\", \"noise-cancelling\", \"water-resistant\"],\n",
    "        \"description\": \"Lightweight and water-resistant wireless earbuds with excellent noise-cancelling capabilities.\"\n",
    "    }}),\n",
    "    (\"product_\" || UUID(), {{\n",
    "        \"name\": \"Coffee Maker Deluxe\", \n",
    "        \"type\": \"Appliances\", \n",
    "        \"price\": 129.99, \n",
    "        \"details\": {{\n",
    "            \"color\": \"Stainless Steel\",\n",
    "            \"capacity\": \"12 cups\",\n",
    "            \"features\": \"Programmable\"\n",
    "        }},\n",
    "        \"tags\": [\"coffee maker\", \"programmable\", \"thermal carafe\"],\n",
    "        \"description\": \"A programmable coffee maker with a thermal carafe to keep your coffee hot for hours.\"\n",
    "    }})\n",
    "RETURNING *\n",
    "\"\"\"\n",
    "insert_products_result = cluster.query(insert_products_query)\n",
    "print(\"Inserted products:\")\n",
    "for row in insert_products_result:\n",
    "    print(json.dumps(row, indent=2))"
   ]
  },
  {
   "cell_type": "markdown",
   "id": "691b9f22-3208-4eb0-8a1e-7a3ea6189e1c",
   "metadata": {},
   "source": [
    "## Add Embeddings To The Documents"
   ]
  },
  {
   "cell_type": "code",
   "execution_count": 8,
   "id": "605af09b-30d7-4362-9d68-efa45412d01b",
   "metadata": {},
   "outputs": [
    {
     "name": "stdout",
     "output_type": "stream",
     "text": [
      "Embeddings added to products.\n"
     ]
    }
   ],
   "source": [
    "collection = bucket.scope(scope_name).collection(collection_name_products)\n",
    "\n",
    "def add_embedding_to_product(product):\n",
    "    text = product.get('description', '') + \" \" + \" \".join(product.get('tags', []))\n",
    "    product['embedding'] = embeddings.embed_query(text)\n",
    "    collection.upsert(product['id'], product)\n",
    "\n",
    "products_query = f\"SELECT META().id, * FROM `{bucket.name}`.`{scope_name}`.`{collection_name_products}`\"\n",
    "for product in cluster.query(products_query):\n",
    "    add_embedding_to_product(product)\n",
    "\n",
    "print(\"Embeddings added to products.\")"
   ]
  },
  {
   "cell_type": "markdown",
   "id": "764a42bc-3c50-40cc-b8ff-1eb471495668",
   "metadata": {},
   "source": [
    "## Create a vector search index"
   ]
  },
  {
   "cell_type": "code",
   "execution_count": 9,
   "id": "2b7b12fb-0f04-4714-a824-7d8a602599ea",
   "metadata": {},
   "outputs": [
    {
     "name": "stdout",
     "output_type": "stream",
     "text": [
      "Vector search index created successfully (or already exists).\n"
     ]
    }
   ],
   "source": []
  },
  {
   "cell_type": "markdown",
   "id": "f7074a40-e636-4186-9761-f490104478c8",
   "metadata": {},
   "source": [
    "## Define Vector Search Function"
   ]
  },
  {
   "cell_type": "code",
   "execution_count": 10,
   "id": "22604a28-cdbd-43ba-895d-269ce11bdb82",
   "metadata": {},
   "outputs": [],
   "source": [
    "def vector_search(query_text, top_k=3):\n",
    "    # Generate the query embedding\n",
    "    query_embedding = embeddings.embed_query(query_text)\n",
    "    \n",
    "    # Create a vector query using the embedding\n",
    "    vector_query = VectorQuery(\"embedding\", query_embedding, top_k)\n",
    "    \n",
    "    # Construct the FTS (Full-Text Search) query\n",
    "    search_query = SearchQuery(vector_query)  # Only pass the query object\n",
    "    \n",
    "    # Execute the search query on the cluster, including the index name separately\n",
    "    results = cluster.search_query(\"vector_index\", search_query)\n",
    "    \n",
    "    return results"
   ]
  },
  {
   "cell_type": "markdown",
   "id": "c3d52181-fe50-40b3-aa70-d29dc92c3c1b",
   "metadata": {},
   "source": [
    "## Perform A Vector Search"
   ]
  },
  {
   "cell_type": "code",
   "execution_count": 11,
   "id": "e1826535-c454-466a-9016-87034f80ea01",
   "metadata": {},
   "outputs": [
    {
     "ename": "TypeError",
     "evalue": "SearchQuery.__init__() takes 1 positional argument but 2 were given",
     "output_type": "error",
     "traceback": [
      "\u001b[0;31m---------------------------------------------------------------------------\u001b[0m",
      "\u001b[0;31mTypeError\u001b[0m                                 Traceback (most recent call last)",
      "Cell \u001b[0;32mIn[11], line 1\u001b[0m\n\u001b[0;32m----> 1\u001b[0m search_results \u001b[38;5;241m=\u001b[39m \u001b[43mvector_search\u001b[49m\u001b[43m(\u001b[49m\u001b[38;5;124;43m\"\u001b[39;49m\u001b[38;5;124;43mdark mobile\u001b[39;49m\u001b[38;5;124;43m\"\u001b[39;49m\u001b[43m)\u001b[49m\n\u001b[1;32m      3\u001b[0m \u001b[38;5;28mprint\u001b[39m(\u001b[38;5;124m\"\u001b[39m\u001b[38;5;124mSearch Results:\u001b[39m\u001b[38;5;124m\"\u001b[39m)\n\u001b[1;32m      4\u001b[0m \u001b[38;5;28;01mfor\u001b[39;00m result \u001b[38;5;129;01min\u001b[39;00m search_results:\n",
      "Cell \u001b[0;32mIn[10], line 9\u001b[0m, in \u001b[0;36mvector_search\u001b[0;34m(query_text, top_k)\u001b[0m\n\u001b[1;32m      6\u001b[0m vector_query \u001b[38;5;241m=\u001b[39m VectorQuery(\u001b[38;5;124m\"\u001b[39m\u001b[38;5;124membedding\u001b[39m\u001b[38;5;124m\"\u001b[39m, query_embedding, top_k)\n\u001b[1;32m      8\u001b[0m \u001b[38;5;66;03m# Construct the FTS (Full-Text Search) query\u001b[39;00m\n\u001b[0;32m----> 9\u001b[0m search_query \u001b[38;5;241m=\u001b[39m \u001b[43mSearchQuery\u001b[49m\u001b[43m(\u001b[49m\u001b[43mvector_query\u001b[49m\u001b[43m)\u001b[49m  \u001b[38;5;66;03m# Only pass the query object\u001b[39;00m\n\u001b[1;32m     11\u001b[0m \u001b[38;5;66;03m# Execute the search query on the cluster, including the index name separately\u001b[39;00m\n\u001b[1;32m     12\u001b[0m results \u001b[38;5;241m=\u001b[39m cluster\u001b[38;5;241m.\u001b[39msearch_query(\u001b[38;5;124m\"\u001b[39m\u001b[38;5;124mvector_index\u001b[39m\u001b[38;5;124m\"\u001b[39m, search_query)\n",
      "\u001b[0;31mTypeError\u001b[0m: SearchQuery.__init__() takes 1 positional argument but 2 were given"
     ]
    }
   ],
   "source": [
    "search_results = vector_search(\"dark mobile\")\n",
    "\n",
    "print(\"Search Results:\")\n",
    "for result in search_results:\n",
    "    doc = collection.get(result.id).content_as[dict]\n",
    "    print(f\"ID: {result.id}\")\n",
    "    print(f\"Text: {doc['text']}\")\n",
    "    print(f\"Score: {result.score}\")\n",
    "    print(\"---\")\n"
   ]
  },
  {
   "cell_type": "code",
   "execution_count": 4,
   "id": "6916bf93-956f-430f-a7a7-fefe02bf3ef2",
   "metadata": {},
   "outputs": [
    {
     "name": "stdout",
     "output_type": "stream",
     "text": [
      "Please provide me with the input you want me to use. I need to know what you want to do with the text embedding. \n",
      "\n",
      "For example, you could tell me:\n",
      "\n",
      "* **\"I want to get the embedding for the string 'The quick brown fox jumps over the lazy dog'.\"**  \n",
      "* **\"Give me the embedding for the sentence 'This is a sample sentence'.\"**\n",
      "* **\"I want to find the embedding for a list of strings, including 'Hello, world!' and 'How are you?'\"**\n",
      "\n",
      "Once you provide me with the input, I can generate the embedding for you and explain how it works. \n",
      "\n"
     ]
    }
   ],
   "source": [
    "\"\"\"\n",
    "Install the Google AI Python SDK\n",
    "\n",
    "$ pip install google-generativeai\n",
    "\"\"\"\n",
    "\n",
    "import os\n",
    "import google.generativeai as genai\n",
    "\n",
    "genai.configure(api_key=os.environ[\"GEMINI_API_KEY\"])\n",
    "\n",
    "# Create the model\n",
    "generation_config = {\n",
    "  \"temperature\": 1,\n",
    "  \"top_p\": 0.95,\n",
    "  \"top_k\": 64,\n",
    "  \"max_output_tokens\": 8192,\n",
    "  \"response_mime_type\": \"text/plain\",\n",
    "}\n",
    "\n",
    "model = genai.GenerativeModel(\n",
    "  model_name=\"gemini-1.5-flash\",\n",
    "  generation_config=generation_config,\n",
    "  # safety_settings = Adjust safety settings\n",
    "  # See https://ai.google.dev/gemini-api/docs/safety-settings\n",
    ")\n",
    "\n",
    "chat_session = model.start_chat(\n",
    "  history=[\n",
    "    {\n",
    "      \"role\": \"user\",\n",
    "      \"parts\": [\n",
    "        \"get embedding for a string\",\n",
    "      ],\n",
    "    },\n",
    "    {\n",
    "      \"role\": \"model\",\n",
    "      \"parts\": [\n",
    "        \"```python\\nfrom sentence_transformers import SentenceTransformer, util\\n\\n# Load a pre-trained sentence transformer model\\nmodel = SentenceTransformer('paraphrase-distilroberta-base-v1')\\n\\n# Define your string\\ntext = \\\"This is a sample sentence.\\\"\\n\\n# Get the embedding\\nembedding = model.encode(text)\\n\\n# Print the embedding (a list of floats)\\nprint(embedding)\\n```\\n\\n**Explanation:**\\n\\n1. **Import necessary libraries:**\\n   - `sentence_transformers` for loading pre-trained models and generating embeddings.\\n   - `util` for potential use of similarity functions later.\\n\\n2. **Load a pre-trained model:**\\n   - `SentenceTransformer('paraphrase-distilroberta-base-v1')` loads a model specifically designed for sentence embedding. You can choose other models based on your task and desired performance.\\n\\n3. **Define your input string:**\\n   - `text = \\\"This is a sample sentence.\\\"` sets the string you want to embed.\\n\\n4. **Generate the embedding:**\\n   - `embedding = model.encode(text)` uses the loaded model to convert the string into a numerical representation (embedding).\\n\\n5. **Print the embedding:**\\n   - `print(embedding)` displays the embedding as a list of floats.\\n\\n**Important Notes:**\\n\\n- **Choose the right model:** The model you select (`paraphrase-distilroberta-base-v1` in this case) impacts the embedding's quality and suitability for your specific application.\\n- **Embedding size:** The resulting embedding will have a specific length (e.g., 768 dimensions for the chosen model), depending on the model architecture.\\n- **Similarity calculations:** You can use the generated embeddings for tasks like:\\n    - **Similarity search:** Find similar text by comparing embeddings using cosine similarity or other metrics.\\n    - **Clustering:** Group similar text by their embeddings.\\n    - **Classification:** Train a classifier using embeddings as input features.\\n\\nThis code provides a basic example. You can modify it by:\\n\\n- Using different pre-trained models from the `sentence_transformers` library.\\n- Processing multiple strings simultaneously.\\n- Performing further analysis or computations using the obtained embeddings. \\n\",\n",
    "      ],\n",
    "    },\n",
    "  ]\n",
    ")\n",
    "\n",
    "response = chat_session.send_message(\"INSERT_INPUT_HERE\")\n",
    "\n",
    "print(response.text)"
   ]
  },
  {
   "cell_type": "code",
   "execution_count": null,
   "id": "a57116d5-7917-4526-b752-c28ac336a52b",
   "metadata": {},
   "outputs": [],
   "source": []
  }
 ],
 "metadata": {
  "kernelspec": {
   "display_name": "Python 3 (ipykernel)",
   "language": "python",
   "name": "python3"
  },
  "language_info": {
   "codemirror_mode": {
    "name": "ipython",
    "version": 3
   },
   "file_extension": ".py",
   "mimetype": "text/x-python",
   "name": "python",
   "nbconvert_exporter": "python",
   "pygments_lexer": "ipython3",
   "version": "3.11.6"
  }
 },
 "nbformat": 4,
 "nbformat_minor": 5
}
